{
 "cells": [
  {
   "cell_type": "markdown",
   "metadata": {},
   "source": [
    "## **DATA PREPARATION**"
   ]
  },
  {
   "cell_type": "code",
   "execution_count": 1,
   "metadata": {},
   "outputs": [],
   "source": [
    "# Library\n",
    "#Fund. Library\n",
    "import pandas as pd\n",
    "import numpy as np\n",
    "\n",
    "# Visualization\n",
    "import matplotlib.pyplot as plt\n",
    "import seaborn as sns\n",
    "from IPython.display import display\n",
    "\n",
    "# Feature Engineering\n",
    "from sklearn.pipeline import Pipeline\n",
    "from sklearn.impute import SimpleImputer, KNNImputer\n",
    "from sklearn.preprocessing import OneHotEncoder, LabelEncoder, OrdinalEncoder, RobustScaler\n",
    "from sklearn.compose import ColumnTransformer\n",
    "import category_encoders as ce\n",
    "\n",
    "# Multicolineary checking\n",
    "import dython as dy\n",
    "from dython.nominal import associations\n",
    "import statsmodels.api as sm\n",
    "from statsmodels.stats.outliers_influence import variance_inflation_factor\n",
    "\n",
    "# Model Selection\n",
    "from sklearn.linear_model import LogisticRegression\n",
    "from sklearn.tree import DecisionTreeClassifier\n",
    "from sklearn.neighbors import KNeighborsClassifier\n",
    "from sklearn.ensemble import RandomForestClassifier\n",
    "from xgboost import XGBClassifier\n",
    "from sklearn.ensemble import AdaBoostClassifier\n",
    "\n",
    "from xgboost import XGBClassifier\n",
    "from lightgbm import LGBMClassifier\n",
    "# from catboost import CatBoostClassifier\n",
    "\n",
    "#Modelling and Evaluation\n",
    "from sklearn.model_selection import GridSearchCV,StratifiedKFold,train_test_split, cross_val_score\n",
    "from sklearn.metrics import classification_report, confusion_matrix\n",
    "from sklearn.metrics import f1_score, accuracy_score, recall_score, precision_score\n",
    "from sklearn.metrics import RocCurveDisplay, precision_recall_curve, PrecisionRecallDisplay, roc_auc_score\n",
    "\n",
    "# Feature Selection\n",
    "from sklearn.feature_selection import SelectPercentile\n",
    "\n",
    "# Imbalance Dataset\n",
    "from imblearn.pipeline import Pipeline\n",
    "from imblearn.over_sampling import RandomOverSampler\n",
    "\n",
    "import warnings\n",
    "warnings.filterwarnings('ignore')"
   ]
  },
  {
   "cell_type": "code",
   "execution_count": 2,
   "metadata": {},
   "outputs": [],
   "source": [
    "df = pd.read_csv('data_hotel_booking_demand.csv')"
   ]
  },
  {
   "cell_type": "code",
   "execution_count": 3,
   "metadata": {},
   "outputs": [
    {
     "name": "stdout",
     "output_type": "stream",
     "text": [
      "<class 'pandas.core.frame.DataFrame'>\n",
      "RangeIndex: 83573 entries, 0 to 83572\n",
      "Data columns (total 11 columns):\n",
      " #   Column                       Non-Null Count  Dtype \n",
      "---  ------                       --------------  ----- \n",
      " 0   country                      83222 non-null  object\n",
      " 1   market_segment               83573 non-null  object\n",
      " 2   previous_cancellations       83573 non-null  int64 \n",
      " 3   booking_changes              83573 non-null  int64 \n",
      " 4   deposit_type                 83573 non-null  object\n",
      " 5   days_in_waiting_list         83573 non-null  int64 \n",
      " 6   customer_type                83573 non-null  object\n",
      " 7   reserved_room_type           83573 non-null  object\n",
      " 8   required_car_parking_spaces  83573 non-null  int64 \n",
      " 9   total_of_special_requests    83573 non-null  int64 \n",
      " 10  is_canceled                  83573 non-null  int64 \n",
      "dtypes: int64(6), object(5)\n",
      "memory usage: 7.0+ MB\n"
     ]
    }
   ],
   "source": [
    "df.info()"
   ]
  },
  {
   "cell_type": "markdown",
   "metadata": {},
   "source": [
    "### Attribute Information\n",
    "\n",
    "| Attribute | Data Type | Description |\n",
    "| --- | --- | --- |\n",
    "| country | Text | Country of origin |\n",
    "| market_segment | Text | Market segment designation, typically influences the price sensitivity |\n",
    "| previous_cancellations  | Integer | Number of previous cancellations prior to current booking |\n",
    "| booking_changes | Integer | Number of changes made to the booking since entering the hotel management system |\n",
    "| deposit_type | Text | Type of deposit made for the reservation |\n",
    "| days_in_waiting_list | Integer | Number of days booking was in the waiting list until it was confirmed |\n",
    "| customer_type | Text | Type of booking |\n",
    "| reserved_room_type  | Integer | Code of room type reserved |\n",
    "| required_car_parking_spaces | Integer | Number of car parking spaces requested |\n",
    "| total_of_special_requests | Integer | Number of special requests made by the customer |\n",
    "| is_canceled | Integer | Value indicating if the booking was canceled (1) or not (0) |"
   ]
  },
  {
   "cell_type": "code",
   "execution_count": 4,
   "metadata": {},
   "outputs": [
    {
     "data": {
      "text/html": [
       "<div>\n",
       "<style scoped>\n",
       "    .dataframe tbody tr th:only-of-type {\n",
       "        vertical-align: middle;\n",
       "    }\n",
       "\n",
       "    .dataframe tbody tr th {\n",
       "        vertical-align: top;\n",
       "    }\n",
       "\n",
       "    .dataframe thead th {\n",
       "        text-align: right;\n",
       "    }\n",
       "</style>\n",
       "<table border=\"1\" class=\"dataframe\">\n",
       "  <thead>\n",
       "    <tr style=\"text-align: right;\">\n",
       "      <th></th>\n",
       "      <th>previous_cancellations</th>\n",
       "      <th>booking_changes</th>\n",
       "      <th>days_in_waiting_list</th>\n",
       "      <th>required_car_parking_spaces</th>\n",
       "      <th>total_of_special_requests</th>\n",
       "      <th>is_canceled</th>\n",
       "    </tr>\n",
       "  </thead>\n",
       "  <tbody>\n",
       "    <tr>\n",
       "      <th>count</th>\n",
       "      <td>83573.000000</td>\n",
       "      <td>83573.000000</td>\n",
       "      <td>83573.000000</td>\n",
       "      <td>83573.000000</td>\n",
       "      <td>83573.000000</td>\n",
       "      <td>83573.000000</td>\n",
       "    </tr>\n",
       "    <tr>\n",
       "      <th>mean</th>\n",
       "      <td>0.086798</td>\n",
       "      <td>0.220897</td>\n",
       "      <td>2.330561</td>\n",
       "      <td>0.062999</td>\n",
       "      <td>0.573211</td>\n",
       "      <td>0.368277</td>\n",
       "    </tr>\n",
       "    <tr>\n",
       "      <th>std</th>\n",
       "      <td>0.841011</td>\n",
       "      <td>0.648635</td>\n",
       "      <td>17.673051</td>\n",
       "      <td>0.246919</td>\n",
       "      <td>0.795163</td>\n",
       "      <td>0.482340</td>\n",
       "    </tr>\n",
       "    <tr>\n",
       "      <th>min</th>\n",
       "      <td>0.000000</td>\n",
       "      <td>0.000000</td>\n",
       "      <td>0.000000</td>\n",
       "      <td>0.000000</td>\n",
       "      <td>0.000000</td>\n",
       "      <td>0.000000</td>\n",
       "    </tr>\n",
       "    <tr>\n",
       "      <th>25%</th>\n",
       "      <td>0.000000</td>\n",
       "      <td>0.000000</td>\n",
       "      <td>0.000000</td>\n",
       "      <td>0.000000</td>\n",
       "      <td>0.000000</td>\n",
       "      <td>0.000000</td>\n",
       "    </tr>\n",
       "    <tr>\n",
       "      <th>50%</th>\n",
       "      <td>0.000000</td>\n",
       "      <td>0.000000</td>\n",
       "      <td>0.000000</td>\n",
       "      <td>0.000000</td>\n",
       "      <td>0.000000</td>\n",
       "      <td>0.000000</td>\n",
       "    </tr>\n",
       "    <tr>\n",
       "      <th>75%</th>\n",
       "      <td>0.000000</td>\n",
       "      <td>0.000000</td>\n",
       "      <td>0.000000</td>\n",
       "      <td>0.000000</td>\n",
       "      <td>1.000000</td>\n",
       "      <td>1.000000</td>\n",
       "    </tr>\n",
       "    <tr>\n",
       "      <th>max</th>\n",
       "      <td>26.000000</td>\n",
       "      <td>21.000000</td>\n",
       "      <td>391.000000</td>\n",
       "      <td>8.000000</td>\n",
       "      <td>5.000000</td>\n",
       "      <td>1.000000</td>\n",
       "    </tr>\n",
       "  </tbody>\n",
       "</table>\n",
       "</div>"
      ],
      "text/plain": [
       "       previous_cancellations  booking_changes  days_in_waiting_list  \\\n",
       "count            83573.000000     83573.000000          83573.000000   \n",
       "mean                 0.086798         0.220897              2.330561   \n",
       "std                  0.841011         0.648635             17.673051   \n",
       "min                  0.000000         0.000000              0.000000   \n",
       "25%                  0.000000         0.000000              0.000000   \n",
       "50%                  0.000000         0.000000              0.000000   \n",
       "75%                  0.000000         0.000000              0.000000   \n",
       "max                 26.000000        21.000000            391.000000   \n",
       "\n",
       "       required_car_parking_spaces  total_of_special_requests   is_canceled  \n",
       "count                 83573.000000               83573.000000  83573.000000  \n",
       "mean                      0.062999                   0.573211      0.368277  \n",
       "std                       0.246919                   0.795163      0.482340  \n",
       "min                       0.000000                   0.000000      0.000000  \n",
       "25%                       0.000000                   0.000000      0.000000  \n",
       "50%                       0.000000                   0.000000      0.000000  \n",
       "75%                       0.000000                   1.000000      1.000000  \n",
       "max                       8.000000                   5.000000      1.000000  "
      ]
     },
     "metadata": {},
     "output_type": "display_data"
    },
    {
     "data": {
      "text/html": [
       "<div>\n",
       "<style scoped>\n",
       "    .dataframe tbody tr th:only-of-type {\n",
       "        vertical-align: middle;\n",
       "    }\n",
       "\n",
       "    .dataframe tbody tr th {\n",
       "        vertical-align: top;\n",
       "    }\n",
       "\n",
       "    .dataframe thead th {\n",
       "        text-align: right;\n",
       "    }\n",
       "</style>\n",
       "<table border=\"1\" class=\"dataframe\">\n",
       "  <thead>\n",
       "    <tr style=\"text-align: right;\">\n",
       "      <th></th>\n",
       "      <th>country</th>\n",
       "      <th>market_segment</th>\n",
       "      <th>deposit_type</th>\n",
       "      <th>customer_type</th>\n",
       "      <th>reserved_room_type</th>\n",
       "    </tr>\n",
       "  </thead>\n",
       "  <tbody>\n",
       "    <tr>\n",
       "      <th>count</th>\n",
       "      <td>83222</td>\n",
       "      <td>83573</td>\n",
       "      <td>83573</td>\n",
       "      <td>83573</td>\n",
       "      <td>83573</td>\n",
       "    </tr>\n",
       "    <tr>\n",
       "      <th>unique</th>\n",
       "      <td>162</td>\n",
       "      <td>8</td>\n",
       "      <td>3</td>\n",
       "      <td>4</td>\n",
       "      <td>10</td>\n",
       "    </tr>\n",
       "    <tr>\n",
       "      <th>top</th>\n",
       "      <td>PRT</td>\n",
       "      <td>Online TA</td>\n",
       "      <td>No Deposit</td>\n",
       "      <td>Transient</td>\n",
       "      <td>A</td>\n",
       "    </tr>\n",
       "    <tr>\n",
       "      <th>freq</th>\n",
       "      <td>34097</td>\n",
       "      <td>39460</td>\n",
       "      <td>73352</td>\n",
       "      <td>62732</td>\n",
       "      <td>60041</td>\n",
       "    </tr>\n",
       "  </tbody>\n",
       "</table>\n",
       "</div>"
      ],
      "text/plain": [
       "       country market_segment deposit_type customer_type reserved_room_type\n",
       "count    83222          83573        83573         83573              83573\n",
       "unique     162              8            3             4                 10\n",
       "top        PRT      Online TA   No Deposit     Transient                  A\n",
       "freq     34097          39460        73352         62732              60041"
      ]
     },
     "metadata": {},
     "output_type": "display_data"
    }
   ],
   "source": [
    "display(df.describe(), df.describe(include='object'))"
   ]
  },
  {
   "cell_type": "code",
   "execution_count": 5,
   "metadata": {},
   "outputs": [
    {
     "data": {
      "text/html": [
       "<div>\n",
       "<style scoped>\n",
       "    .dataframe tbody tr th:only-of-type {\n",
       "        vertical-align: middle;\n",
       "    }\n",
       "\n",
       "    .dataframe tbody tr th {\n",
       "        vertical-align: top;\n",
       "    }\n",
       "\n",
       "    .dataframe thead th {\n",
       "        text-align: right;\n",
       "    }\n",
       "</style>\n",
       "<table border=\"1\" class=\"dataframe\">\n",
       "  <thead>\n",
       "    <tr style=\"text-align: right;\">\n",
       "      <th></th>\n",
       "      <th>country</th>\n",
       "      <th>market_segment</th>\n",
       "      <th>previous_cancellations</th>\n",
       "      <th>booking_changes</th>\n",
       "      <th>deposit_type</th>\n",
       "      <th>days_in_waiting_list</th>\n",
       "      <th>customer_type</th>\n",
       "      <th>reserved_room_type</th>\n",
       "      <th>required_car_parking_spaces</th>\n",
       "      <th>total_of_special_requests</th>\n",
       "      <th>is_canceled</th>\n",
       "    </tr>\n",
       "  </thead>\n",
       "  <tbody>\n",
       "    <tr>\n",
       "      <th>0</th>\n",
       "      <td>IRL</td>\n",
       "      <td>Offline TA/TO</td>\n",
       "      <td>0</td>\n",
       "      <td>0</td>\n",
       "      <td>No Deposit</td>\n",
       "      <td>0</td>\n",
       "      <td>Transient-Party</td>\n",
       "      <td>A</td>\n",
       "      <td>0</td>\n",
       "      <td>0</td>\n",
       "      <td>0</td>\n",
       "    </tr>\n",
       "    <tr>\n",
       "      <th>1</th>\n",
       "      <td>FRA</td>\n",
       "      <td>Online TA</td>\n",
       "      <td>0</td>\n",
       "      <td>0</td>\n",
       "      <td>No Deposit</td>\n",
       "      <td>0</td>\n",
       "      <td>Transient</td>\n",
       "      <td>A</td>\n",
       "      <td>0</td>\n",
       "      <td>2</td>\n",
       "      <td>0</td>\n",
       "    </tr>\n",
       "    <tr>\n",
       "      <th>2</th>\n",
       "      <td>PRT</td>\n",
       "      <td>Online TA</td>\n",
       "      <td>0</td>\n",
       "      <td>1</td>\n",
       "      <td>No Deposit</td>\n",
       "      <td>0</td>\n",
       "      <td>Transient</td>\n",
       "      <td>A</td>\n",
       "      <td>0</td>\n",
       "      <td>2</td>\n",
       "      <td>0</td>\n",
       "    </tr>\n",
       "    <tr>\n",
       "      <th>3</th>\n",
       "      <td>NLD</td>\n",
       "      <td>Online TA</td>\n",
       "      <td>0</td>\n",
       "      <td>0</td>\n",
       "      <td>No Deposit</td>\n",
       "      <td>0</td>\n",
       "      <td>Transient</td>\n",
       "      <td>A</td>\n",
       "      <td>0</td>\n",
       "      <td>1</td>\n",
       "      <td>1</td>\n",
       "    </tr>\n",
       "    <tr>\n",
       "      <th>4</th>\n",
       "      <td>PRT</td>\n",
       "      <td>Online TA</td>\n",
       "      <td>0</td>\n",
       "      <td>2</td>\n",
       "      <td>No Deposit</td>\n",
       "      <td>0</td>\n",
       "      <td>Transient</td>\n",
       "      <td>A</td>\n",
       "      <td>0</td>\n",
       "      <td>2</td>\n",
       "      <td>0</td>\n",
       "    </tr>\n",
       "  </tbody>\n",
       "</table>\n",
       "</div>"
      ],
      "text/plain": [
       "  country market_segment  previous_cancellations  booking_changes  \\\n",
       "0     IRL  Offline TA/TO                       0                0   \n",
       "1     FRA      Online TA                       0                0   \n",
       "2     PRT      Online TA                       0                1   \n",
       "3     NLD      Online TA                       0                0   \n",
       "4     PRT      Online TA                       0                2   \n",
       "\n",
       "  deposit_type  days_in_waiting_list    customer_type reserved_room_type  \\\n",
       "0   No Deposit                     0  Transient-Party                  A   \n",
       "1   No Deposit                     0        Transient                  A   \n",
       "2   No Deposit                     0        Transient                  A   \n",
       "3   No Deposit                     0        Transient                  A   \n",
       "4   No Deposit                     0        Transient                  A   \n",
       "\n",
       "   required_car_parking_spaces  total_of_special_requests  is_canceled  \n",
       "0                            0                          0            0  \n",
       "1                            0                          2            0  \n",
       "2                            0                          2            0  \n",
       "3                            0                          1            1  \n",
       "4                            0                          2            0  "
      ]
     },
     "metadata": {},
     "output_type": "display_data"
    },
    {
     "data": {
      "text/html": [
       "<div>\n",
       "<style scoped>\n",
       "    .dataframe tbody tr th:only-of-type {\n",
       "        vertical-align: middle;\n",
       "    }\n",
       "\n",
       "    .dataframe tbody tr th {\n",
       "        vertical-align: top;\n",
       "    }\n",
       "\n",
       "    .dataframe thead th {\n",
       "        text-align: right;\n",
       "    }\n",
       "</style>\n",
       "<table border=\"1\" class=\"dataframe\">\n",
       "  <thead>\n",
       "    <tr style=\"text-align: right;\">\n",
       "      <th></th>\n",
       "      <th>country</th>\n",
       "      <th>market_segment</th>\n",
       "      <th>previous_cancellations</th>\n",
       "      <th>booking_changes</th>\n",
       "      <th>deposit_type</th>\n",
       "      <th>days_in_waiting_list</th>\n",
       "      <th>customer_type</th>\n",
       "      <th>reserved_room_type</th>\n",
       "      <th>required_car_parking_spaces</th>\n",
       "      <th>total_of_special_requests</th>\n",
       "      <th>is_canceled</th>\n",
       "    </tr>\n",
       "  </thead>\n",
       "  <tbody>\n",
       "    <tr>\n",
       "      <th>83568</th>\n",
       "      <td>PRT</td>\n",
       "      <td>Online TA</td>\n",
       "      <td>0</td>\n",
       "      <td>0</td>\n",
       "      <td>No Deposit</td>\n",
       "      <td>0</td>\n",
       "      <td>Contract</td>\n",
       "      <td>A</td>\n",
       "      <td>0</td>\n",
       "      <td>3</td>\n",
       "      <td>1</td>\n",
       "    </tr>\n",
       "    <tr>\n",
       "      <th>83569</th>\n",
       "      <td>FRA</td>\n",
       "      <td>Online TA</td>\n",
       "      <td>0</td>\n",
       "      <td>0</td>\n",
       "      <td>No Deposit</td>\n",
       "      <td>0</td>\n",
       "      <td>Transient</td>\n",
       "      <td>D</td>\n",
       "      <td>0</td>\n",
       "      <td>2</td>\n",
       "      <td>0</td>\n",
       "    </tr>\n",
       "    <tr>\n",
       "      <th>83570</th>\n",
       "      <td>PRT</td>\n",
       "      <td>Online TA</td>\n",
       "      <td>0</td>\n",
       "      <td>1</td>\n",
       "      <td>No Deposit</td>\n",
       "      <td>0</td>\n",
       "      <td>Transient</td>\n",
       "      <td>D</td>\n",
       "      <td>0</td>\n",
       "      <td>3</td>\n",
       "      <td>0</td>\n",
       "    </tr>\n",
       "    <tr>\n",
       "      <th>83571</th>\n",
       "      <td>CN</td>\n",
       "      <td>Offline TA/TO</td>\n",
       "      <td>0</td>\n",
       "      <td>0</td>\n",
       "      <td>No Deposit</td>\n",
       "      <td>0</td>\n",
       "      <td>Transient-Party</td>\n",
       "      <td>A</td>\n",
       "      <td>0</td>\n",
       "      <td>0</td>\n",
       "      <td>0</td>\n",
       "    </tr>\n",
       "    <tr>\n",
       "      <th>83572</th>\n",
       "      <td>PRT</td>\n",
       "      <td>Groups</td>\n",
       "      <td>0</td>\n",
       "      <td>0</td>\n",
       "      <td>Non Refund</td>\n",
       "      <td>0</td>\n",
       "      <td>Transient</td>\n",
       "      <td>A</td>\n",
       "      <td>0</td>\n",
       "      <td>0</td>\n",
       "      <td>1</td>\n",
       "    </tr>\n",
       "  </tbody>\n",
       "</table>\n",
       "</div>"
      ],
      "text/plain": [
       "      country market_segment  previous_cancellations  booking_changes  \\\n",
       "83568     PRT      Online TA                       0                0   \n",
       "83569     FRA      Online TA                       0                0   \n",
       "83570     PRT      Online TA                       0                1   \n",
       "83571      CN  Offline TA/TO                       0                0   \n",
       "83572     PRT         Groups                       0                0   \n",
       "\n",
       "      deposit_type  days_in_waiting_list    customer_type reserved_room_type  \\\n",
       "83568   No Deposit                     0         Contract                  A   \n",
       "83569   No Deposit                     0        Transient                  D   \n",
       "83570   No Deposit                     0        Transient                  D   \n",
       "83571   No Deposit                     0  Transient-Party                  A   \n",
       "83572   Non Refund                     0        Transient                  A   \n",
       "\n",
       "       required_car_parking_spaces  total_of_special_requests  is_canceled  \n",
       "83568                            0                          3            1  \n",
       "83569                            0                          2            0  \n",
       "83570                            0                          3            0  \n",
       "83571                            0                          0            0  \n",
       "83572                            0                          0            1  "
      ]
     },
     "metadata": {},
     "output_type": "display_data"
    }
   ],
   "source": [
    "display(df.head(), df.tail())"
   ]
  },
  {
   "cell_type": "markdown",
   "metadata": {},
   "source": [
    "### **Missing Values**"
   ]
  },
  {
   "cell_type": "markdown",
   "metadata": {},
   "source": [
    "Kolom `country` berisi data kategorikal, data missing value pada kolom ini tidak dihapus tapi diisi sengan konstanta other karena kita tidak ingin kehilangan data atau informasi, baris yang memiliki missing value pada kolom `country` tidak dihapus tapi diisi sengan konstanta 'other'. Juga terdapat kemungkinan negara-nya tidak atau belum teridentifikasi diluar 162 nilai uniknya (jumlah negara di dunia saat ini terdapat 195)."
   ]
  },
  {
   "cell_type": "code",
   "execution_count": 6,
   "metadata": {},
   "outputs": [],
   "source": [
    "# Mengisi Missing Value dengan metode KNNimputer konstanta\n",
    "\n",
    "df['country'].fillna('Other',inplace = True)"
   ]
  },
  {
   "cell_type": "code",
   "execution_count": 7,
   "metadata": {},
   "outputs": [
    {
     "data": {
      "text/html": [
       "<div>\n",
       "<style scoped>\n",
       "    .dataframe tbody tr th:only-of-type {\n",
       "        vertical-align: middle;\n",
       "    }\n",
       "\n",
       "    .dataframe tbody tr th {\n",
       "        vertical-align: top;\n",
       "    }\n",
       "\n",
       "    .dataframe thead th {\n",
       "        text-align: right;\n",
       "    }\n",
       "</style>\n",
       "<table border=\"1\" class=\"dataframe\">\n",
       "  <thead>\n",
       "    <tr style=\"text-align: right;\">\n",
       "      <th></th>\n",
       "      <th>country</th>\n",
       "      <th>market_segment</th>\n",
       "      <th>previous_cancellations</th>\n",
       "      <th>booking_changes</th>\n",
       "      <th>deposit_type</th>\n",
       "      <th>days_in_waiting_list</th>\n",
       "      <th>customer_type</th>\n",
       "      <th>reserved_room_type</th>\n",
       "      <th>required_car_parking_spaces</th>\n",
       "      <th>total_of_special_requests</th>\n",
       "      <th>is_canceled</th>\n",
       "    </tr>\n",
       "  </thead>\n",
       "  <tbody>\n",
       "    <tr>\n",
       "      <th>814</th>\n",
       "      <td>Other</td>\n",
       "      <td>Offline TA/TO</td>\n",
       "      <td>0</td>\n",
       "      <td>0</td>\n",
       "      <td>No Deposit</td>\n",
       "      <td>0</td>\n",
       "      <td>Transient-Party</td>\n",
       "      <td>A</td>\n",
       "      <td>0</td>\n",
       "      <td>0</td>\n",
       "      <td>0</td>\n",
       "    </tr>\n",
       "    <tr>\n",
       "      <th>1166</th>\n",
       "      <td>Other</td>\n",
       "      <td>Direct</td>\n",
       "      <td>2</td>\n",
       "      <td>0</td>\n",
       "      <td>No Deposit</td>\n",
       "      <td>0</td>\n",
       "      <td>Transient</td>\n",
       "      <td>E</td>\n",
       "      <td>0</td>\n",
       "      <td>3</td>\n",
       "      <td>1</td>\n",
       "    </tr>\n",
       "    <tr>\n",
       "      <th>1304</th>\n",
       "      <td>Other</td>\n",
       "      <td>Direct</td>\n",
       "      <td>0</td>\n",
       "      <td>1</td>\n",
       "      <td>No Deposit</td>\n",
       "      <td>0</td>\n",
       "      <td>Transient</td>\n",
       "      <td>D</td>\n",
       "      <td>0</td>\n",
       "      <td>1</td>\n",
       "      <td>0</td>\n",
       "    </tr>\n",
       "    <tr>\n",
       "      <th>1661</th>\n",
       "      <td>Other</td>\n",
       "      <td>Corporate</td>\n",
       "      <td>0</td>\n",
       "      <td>0</td>\n",
       "      <td>No Deposit</td>\n",
       "      <td>0</td>\n",
       "      <td>Transient</td>\n",
       "      <td>A</td>\n",
       "      <td>0</td>\n",
       "      <td>0</td>\n",
       "      <td>0</td>\n",
       "    </tr>\n",
       "    <tr>\n",
       "      <th>2182</th>\n",
       "      <td>Other</td>\n",
       "      <td>Corporate</td>\n",
       "      <td>0</td>\n",
       "      <td>0</td>\n",
       "      <td>No Deposit</td>\n",
       "      <td>0</td>\n",
       "      <td>Transient</td>\n",
       "      <td>A</td>\n",
       "      <td>0</td>\n",
       "      <td>0</td>\n",
       "      <td>0</td>\n",
       "    </tr>\n",
       "    <tr>\n",
       "      <th>...</th>\n",
       "      <td>...</td>\n",
       "      <td>...</td>\n",
       "      <td>...</td>\n",
       "      <td>...</td>\n",
       "      <td>...</td>\n",
       "      <td>...</td>\n",
       "      <td>...</td>\n",
       "      <td>...</td>\n",
       "      <td>...</td>\n",
       "      <td>...</td>\n",
       "      <td>...</td>\n",
       "    </tr>\n",
       "    <tr>\n",
       "      <th>82466</th>\n",
       "      <td>Other</td>\n",
       "      <td>Offline TA/TO</td>\n",
       "      <td>0</td>\n",
       "      <td>0</td>\n",
       "      <td>No Deposit</td>\n",
       "      <td>0</td>\n",
       "      <td>Transient</td>\n",
       "      <td>A</td>\n",
       "      <td>0</td>\n",
       "      <td>0</td>\n",
       "      <td>0</td>\n",
       "    </tr>\n",
       "    <tr>\n",
       "      <th>83084</th>\n",
       "      <td>Other</td>\n",
       "      <td>Corporate</td>\n",
       "      <td>0</td>\n",
       "      <td>0</td>\n",
       "      <td>No Deposit</td>\n",
       "      <td>0</td>\n",
       "      <td>Transient</td>\n",
       "      <td>A</td>\n",
       "      <td>0</td>\n",
       "      <td>0</td>\n",
       "      <td>0</td>\n",
       "    </tr>\n",
       "    <tr>\n",
       "      <th>83106</th>\n",
       "      <td>Other</td>\n",
       "      <td>Direct</td>\n",
       "      <td>0</td>\n",
       "      <td>0</td>\n",
       "      <td>No Deposit</td>\n",
       "      <td>0</td>\n",
       "      <td>Transient</td>\n",
       "      <td>A</td>\n",
       "      <td>0</td>\n",
       "      <td>2</td>\n",
       "      <td>0</td>\n",
       "    </tr>\n",
       "    <tr>\n",
       "      <th>83353</th>\n",
       "      <td>Other</td>\n",
       "      <td>Direct</td>\n",
       "      <td>0</td>\n",
       "      <td>0</td>\n",
       "      <td>No Deposit</td>\n",
       "      <td>0</td>\n",
       "      <td>Transient</td>\n",
       "      <td>A</td>\n",
       "      <td>0</td>\n",
       "      <td>0</td>\n",
       "      <td>0</td>\n",
       "    </tr>\n",
       "    <tr>\n",
       "      <th>83426</th>\n",
       "      <td>Other</td>\n",
       "      <td>Direct</td>\n",
       "      <td>0</td>\n",
       "      <td>2</td>\n",
       "      <td>No Deposit</td>\n",
       "      <td>0</td>\n",
       "      <td>Transient</td>\n",
       "      <td>A</td>\n",
       "      <td>0</td>\n",
       "      <td>1</td>\n",
       "      <td>0</td>\n",
       "    </tr>\n",
       "  </tbody>\n",
       "</table>\n",
       "<p>351 rows × 11 columns</p>\n",
       "</div>"
      ],
      "text/plain": [
       "      country market_segment  previous_cancellations  booking_changes  \\\n",
       "814     Other  Offline TA/TO                       0                0   \n",
       "1166    Other         Direct                       2                0   \n",
       "1304    Other         Direct                       0                1   \n",
       "1661    Other      Corporate                       0                0   \n",
       "2182    Other      Corporate                       0                0   \n",
       "...       ...            ...                     ...              ...   \n",
       "82466   Other  Offline TA/TO                       0                0   \n",
       "83084   Other      Corporate                       0                0   \n",
       "83106   Other         Direct                       0                0   \n",
       "83353   Other         Direct                       0                0   \n",
       "83426   Other         Direct                       0                2   \n",
       "\n",
       "      deposit_type  days_in_waiting_list    customer_type reserved_room_type  \\\n",
       "814     No Deposit                     0  Transient-Party                  A   \n",
       "1166    No Deposit                     0        Transient                  E   \n",
       "1304    No Deposit                     0        Transient                  D   \n",
       "1661    No Deposit                     0        Transient                  A   \n",
       "2182    No Deposit                     0        Transient                  A   \n",
       "...            ...                   ...              ...                ...   \n",
       "82466   No Deposit                     0        Transient                  A   \n",
       "83084   No Deposit                     0        Transient                  A   \n",
       "83106   No Deposit                     0        Transient                  A   \n",
       "83353   No Deposit                     0        Transient                  A   \n",
       "83426   No Deposit                     0        Transient                  A   \n",
       "\n",
       "       required_car_parking_spaces  total_of_special_requests  is_canceled  \n",
       "814                              0                          0            0  \n",
       "1166                             0                          3            1  \n",
       "1304                             0                          1            0  \n",
       "1661                             0                          0            0  \n",
       "2182                             0                          0            0  \n",
       "...                            ...                        ...          ...  \n",
       "82466                            0                          0            0  \n",
       "83084                            0                          0            0  \n",
       "83106                            0                          2            0  \n",
       "83353                            0                          0            0  \n",
       "83426                            0                          1            0  \n",
       "\n",
       "[351 rows x 11 columns]"
      ]
     },
     "execution_count": 7,
     "metadata": {},
     "output_type": "execute_result"
    }
   ],
   "source": [
    "df[df['country']=='Other']"
   ]
  },
  {
   "cell_type": "code",
   "execution_count": 8,
   "metadata": {},
   "outputs": [
    {
     "data": {
      "text/html": [
       "<div>\n",
       "<style scoped>\n",
       "    .dataframe tbody tr th:only-of-type {\n",
       "        vertical-align: middle;\n",
       "    }\n",
       "\n",
       "    .dataframe tbody tr th {\n",
       "        vertical-align: top;\n",
       "    }\n",
       "\n",
       "    .dataframe thead th {\n",
       "        text-align: right;\n",
       "    }\n",
       "</style>\n",
       "<table border=\"1\" class=\"dataframe\">\n",
       "  <thead>\n",
       "    <tr style=\"text-align: right;\">\n",
       "      <th></th>\n",
       "      <th>feature</th>\n",
       "      <th>data_type</th>\n",
       "      <th>null_value(%)</th>\n",
       "      <th>neg_value(%)</th>\n",
       "      <th>0_value(%)</th>\n",
       "      <th>duplicate</th>\n",
       "      <th>n_unique</th>\n",
       "      <th>?_value</th>\n",
       "      <th>?_value(%)</th>\n",
       "      <th>sample_unique</th>\n",
       "    </tr>\n",
       "  </thead>\n",
       "  <tbody>\n",
       "    <tr>\n",
       "      <th>0</th>\n",
       "      <td>country</td>\n",
       "      <td>object</td>\n",
       "      <td>0.0</td>\n",
       "      <td>0.0</td>\n",
       "      <td>0.00</td>\n",
       "      <td>73371</td>\n",
       "      <td>163</td>\n",
       "      <td>0</td>\n",
       "      <td>0.0</td>\n",
       "      <td>[IRL, FRA, PRT, NLD, ESP, UMI, CN, LUX, BRA, B...</td>\n",
       "    </tr>\n",
       "    <tr>\n",
       "      <th>1</th>\n",
       "      <td>market_segment</td>\n",
       "      <td>object</td>\n",
       "      <td>0.0</td>\n",
       "      <td>0.0</td>\n",
       "      <td>0.00</td>\n",
       "      <td>73371</td>\n",
       "      <td>8</td>\n",
       "      <td>0</td>\n",
       "      <td>0.0</td>\n",
       "      <td>[Offline TA/TO, Online TA, Direct, Groups, Cor...</td>\n",
       "    </tr>\n",
       "    <tr>\n",
       "      <th>2</th>\n",
       "      <td>previous_cancellations</td>\n",
       "      <td>int64</td>\n",
       "      <td>0.0</td>\n",
       "      <td>0.0</td>\n",
       "      <td>94.60</td>\n",
       "      <td>73371</td>\n",
       "      <td>15</td>\n",
       "      <td>0</td>\n",
       "      <td>0.0</td>\n",
       "      <td>[0, 1, 25, 2, 3, 11, 24, 13, 6, 26, 14, 4, 19,...</td>\n",
       "    </tr>\n",
       "    <tr>\n",
       "      <th>3</th>\n",
       "      <td>booking_changes</td>\n",
       "      <td>int64</td>\n",
       "      <td>0.0</td>\n",
       "      <td>0.0</td>\n",
       "      <td>84.80</td>\n",
       "      <td>73371</td>\n",
       "      <td>19</td>\n",
       "      <td>0</td>\n",
       "      <td>0.0</td>\n",
       "      <td>[0, 1, 2, 5, 3, 4, 6, 7, 9, 8, 17, 10, 13, 12,...</td>\n",
       "    </tr>\n",
       "    <tr>\n",
       "      <th>4</th>\n",
       "      <td>deposit_type</td>\n",
       "      <td>object</td>\n",
       "      <td>0.0</td>\n",
       "      <td>0.0</td>\n",
       "      <td>0.00</td>\n",
       "      <td>73371</td>\n",
       "      <td>3</td>\n",
       "      <td>0</td>\n",
       "      <td>0.0</td>\n",
       "      <td>[No Deposit, Non Refund, Refundable]</td>\n",
       "    </tr>\n",
       "    <tr>\n",
       "      <th>5</th>\n",
       "      <td>days_in_waiting_list</td>\n",
       "      <td>int64</td>\n",
       "      <td>0.0</td>\n",
       "      <td>0.0</td>\n",
       "      <td>96.91</td>\n",
       "      <td>73371</td>\n",
       "      <td>115</td>\n",
       "      <td>0</td>\n",
       "      <td>0.0</td>\n",
       "      <td>[0, 3, 39, 87, 77, 215, 97, 162, 46, 79, 4, 31...</td>\n",
       "    </tr>\n",
       "    <tr>\n",
       "      <th>6</th>\n",
       "      <td>customer_type</td>\n",
       "      <td>object</td>\n",
       "      <td>0.0</td>\n",
       "      <td>0.0</td>\n",
       "      <td>0.00</td>\n",
       "      <td>73371</td>\n",
       "      <td>4</td>\n",
       "      <td>0</td>\n",
       "      <td>0.0</td>\n",
       "      <td>[Transient-Party, Transient, Contract, Group]</td>\n",
       "    </tr>\n",
       "    <tr>\n",
       "      <th>7</th>\n",
       "      <td>reserved_room_type</td>\n",
       "      <td>object</td>\n",
       "      <td>0.0</td>\n",
       "      <td>0.0</td>\n",
       "      <td>0.00</td>\n",
       "      <td>73371</td>\n",
       "      <td>10</td>\n",
       "      <td>0</td>\n",
       "      <td>0.0</td>\n",
       "      <td>[A, E, D, F, B, G, C, H, L, P]</td>\n",
       "    </tr>\n",
       "    <tr>\n",
       "      <th>8</th>\n",
       "      <td>required_car_parking_spaces</td>\n",
       "      <td>int64</td>\n",
       "      <td>0.0</td>\n",
       "      <td>0.0</td>\n",
       "      <td>93.75</td>\n",
       "      <td>73371</td>\n",
       "      <td>5</td>\n",
       "      <td>0</td>\n",
       "      <td>0.0</td>\n",
       "      <td>[0, 1, 2, 8, 3]</td>\n",
       "    </tr>\n",
       "    <tr>\n",
       "      <th>9</th>\n",
       "      <td>total_of_special_requests</td>\n",
       "      <td>int64</td>\n",
       "      <td>0.0</td>\n",
       "      <td>0.0</td>\n",
       "      <td>58.86</td>\n",
       "      <td>73371</td>\n",
       "      <td>6</td>\n",
       "      <td>0</td>\n",
       "      <td>0.0</td>\n",
       "      <td>[0, 2, 1, 3, 4, 5]</td>\n",
       "    </tr>\n",
       "    <tr>\n",
       "      <th>10</th>\n",
       "      <td>is_canceled</td>\n",
       "      <td>int64</td>\n",
       "      <td>0.0</td>\n",
       "      <td>0.0</td>\n",
       "      <td>63.17</td>\n",
       "      <td>73371</td>\n",
       "      <td>2</td>\n",
       "      <td>0</td>\n",
       "      <td>0.0</td>\n",
       "      <td>[0, 1]</td>\n",
       "    </tr>\n",
       "  </tbody>\n",
       "</table>\n",
       "</div>"
      ],
      "text/plain": [
       "                        feature data_type  null_value(%)  neg_value(%)  \\\n",
       "0                       country    object            0.0           0.0   \n",
       "1                market_segment    object            0.0           0.0   \n",
       "2        previous_cancellations     int64            0.0           0.0   \n",
       "3               booking_changes     int64            0.0           0.0   \n",
       "4                  deposit_type    object            0.0           0.0   \n",
       "5          days_in_waiting_list     int64            0.0           0.0   \n",
       "6                 customer_type    object            0.0           0.0   \n",
       "7            reserved_room_type    object            0.0           0.0   \n",
       "8   required_car_parking_spaces     int64            0.0           0.0   \n",
       "9     total_of_special_requests     int64            0.0           0.0   \n",
       "10                  is_canceled     int64            0.0           0.0   \n",
       "\n",
       "    0_value(%)  duplicate  n_unique  ?_value  ?_value(%)  \\\n",
       "0         0.00      73371       163        0         0.0   \n",
       "1         0.00      73371         8        0         0.0   \n",
       "2        94.60      73371        15        0         0.0   \n",
       "3        84.80      73371        19        0         0.0   \n",
       "4         0.00      73371         3        0         0.0   \n",
       "5        96.91      73371       115        0         0.0   \n",
       "6         0.00      73371         4        0         0.0   \n",
       "7         0.00      73371        10        0         0.0   \n",
       "8        93.75      73371         5        0         0.0   \n",
       "9        58.86      73371         6        0         0.0   \n",
       "10       63.17      73371         2        0         0.0   \n",
       "\n",
       "                                        sample_unique  \n",
       "0   [IRL, FRA, PRT, NLD, ESP, UMI, CN, LUX, BRA, B...  \n",
       "1   [Offline TA/TO, Online TA, Direct, Groups, Cor...  \n",
       "2   [0, 1, 25, 2, 3, 11, 24, 13, 6, 26, 14, 4, 19,...  \n",
       "3   [0, 1, 2, 5, 3, 4, 6, 7, 9, 8, 17, 10, 13, 12,...  \n",
       "4                [No Deposit, Non Refund, Refundable]  \n",
       "5   [0, 3, 39, 87, 77, 215, 97, 162, 46, 79, 4, 31...  \n",
       "6       [Transient-Party, Transient, Contract, Group]  \n",
       "7                      [A, E, D, F, B, G, C, H, L, P]  \n",
       "8                                     [0, 1, 2, 8, 3]  \n",
       "9                                  [0, 2, 1, 3, 4, 5]  \n",
       "10                                             [0, 1]  "
      ]
     },
     "execution_count": 8,
     "metadata": {},
     "output_type": "execute_result"
    }
   ],
   "source": [
    "# Exploratory Data Analysis (EDA)\n",
    "\n",
    "#skim the data to see if there are any missing values\n",
    "pd.DataFrame({\n",
    "    'feature': df.columns.values,\n",
    "    'data_type': df.dtypes.values,\n",
    "    'null_value(%)': df.isna().mean().values * 100,\n",
    "    'neg_value(%)': [len(df[col][df[col] < 0]) / len(df) * 100 if col in df.select_dtypes(include=[np.number]).columns else 0 for col in df.columns],\n",
    "    '0_value(%)': [len(df[col][df[col] == 0]) / len(df) * 100 if col in df.select_dtypes(include=[np.number]).columns else 0 for col in df.columns],\n",
    "    'duplicate' : df.duplicated().sum(),\n",
    "    'n_unique': df.nunique().values,\n",
    "    '?_value': [len(df[col][df[col] == '?']) for col in df.columns],\n",
    "    '?_value(%)': [len(df[col][df[col] == '?']) / len(df) * 100 for col in df.columns],\n",
    "    'sample_unique': [df[col].unique() for col in df.columns]}\n",
    ").round(2)"
   ]
  },
  {
   "cell_type": "markdown",
   "metadata": {},
   "source": [
    "### **Duplicated Data**"
   ]
  },
  {
   "cell_type": "code",
   "execution_count": 9,
   "metadata": {},
   "outputs": [
    {
     "data": {
      "text/plain": [
       "(73371, 0.8779270817129934)"
      ]
     },
     "execution_count": 9,
     "metadata": {},
     "output_type": "execute_result"
    }
   ],
   "source": [
    "df.duplicated().sum(), df.duplicated().sum() / len(df)"
   ]
  },
  {
   "cell_type": "markdown",
   "metadata": {},
   "source": [
    "Terdapat 73.371 data duplikat dalam data, namun duplikat data ini tidak memiliki informasi unik(nama/nomor pelanggan atau tanggal) yang dapat membedakan satu data dengan data lainnya sehingga kita tidak memberikan perlakuan khusus untuk data duplikat ini."
   ]
  },
  {
   "cell_type": "markdown",
   "metadata": {},
   "source": [
    "### **Outlier Handling**"
   ]
  },
  {
   "cell_type": "code",
   "execution_count": 10,
   "metadata": {},
   "outputs": [
    {
     "data": {
      "text/html": [
       "<div>\n",
       "<style scoped>\n",
       "    .dataframe tbody tr th:only-of-type {\n",
       "        vertical-align: middle;\n",
       "    }\n",
       "\n",
       "    .dataframe tbody tr th {\n",
       "        vertical-align: top;\n",
       "    }\n",
       "\n",
       "    .dataframe thead th {\n",
       "        text-align: right;\n",
       "    }\n",
       "</style>\n",
       "<table border=\"1\" class=\"dataframe\">\n",
       "  <thead>\n",
       "    <tr style=\"text-align: right;\">\n",
       "      <th></th>\n",
       "      <th>previous_cancellations</th>\n",
       "      <th>booking_changes</th>\n",
       "      <th>days_in_waiting_list</th>\n",
       "      <th>required_car_parking_spaces</th>\n",
       "      <th>total_of_special_requests</th>\n",
       "      <th>is_canceled</th>\n",
       "    </tr>\n",
       "  </thead>\n",
       "  <tbody>\n",
       "    <tr>\n",
       "      <th>count</th>\n",
       "      <td>83573.000000</td>\n",
       "      <td>83573.000000</td>\n",
       "      <td>83573.000000</td>\n",
       "      <td>83573.000000</td>\n",
       "      <td>83573.000000</td>\n",
       "      <td>83573.000000</td>\n",
       "    </tr>\n",
       "    <tr>\n",
       "      <th>mean</th>\n",
       "      <td>0.086798</td>\n",
       "      <td>0.220897</td>\n",
       "      <td>2.330561</td>\n",
       "      <td>0.062999</td>\n",
       "      <td>0.573211</td>\n",
       "      <td>0.368277</td>\n",
       "    </tr>\n",
       "    <tr>\n",
       "      <th>std</th>\n",
       "      <td>0.841011</td>\n",
       "      <td>0.648635</td>\n",
       "      <td>17.673051</td>\n",
       "      <td>0.246919</td>\n",
       "      <td>0.795163</td>\n",
       "      <td>0.482340</td>\n",
       "    </tr>\n",
       "    <tr>\n",
       "      <th>min</th>\n",
       "      <td>0.000000</td>\n",
       "      <td>0.000000</td>\n",
       "      <td>0.000000</td>\n",
       "      <td>0.000000</td>\n",
       "      <td>0.000000</td>\n",
       "      <td>0.000000</td>\n",
       "    </tr>\n",
       "    <tr>\n",
       "      <th>25%</th>\n",
       "      <td>0.000000</td>\n",
       "      <td>0.000000</td>\n",
       "      <td>0.000000</td>\n",
       "      <td>0.000000</td>\n",
       "      <td>0.000000</td>\n",
       "      <td>0.000000</td>\n",
       "    </tr>\n",
       "    <tr>\n",
       "      <th>50%</th>\n",
       "      <td>0.000000</td>\n",
       "      <td>0.000000</td>\n",
       "      <td>0.000000</td>\n",
       "      <td>0.000000</td>\n",
       "      <td>0.000000</td>\n",
       "      <td>0.000000</td>\n",
       "    </tr>\n",
       "    <tr>\n",
       "      <th>75%</th>\n",
       "      <td>0.000000</td>\n",
       "      <td>0.000000</td>\n",
       "      <td>0.000000</td>\n",
       "      <td>0.000000</td>\n",
       "      <td>1.000000</td>\n",
       "      <td>1.000000</td>\n",
       "    </tr>\n",
       "    <tr>\n",
       "      <th>max</th>\n",
       "      <td>26.000000</td>\n",
       "      <td>21.000000</td>\n",
       "      <td>391.000000</td>\n",
       "      <td>8.000000</td>\n",
       "      <td>5.000000</td>\n",
       "      <td>1.000000</td>\n",
       "    </tr>\n",
       "  </tbody>\n",
       "</table>\n",
       "</div>"
      ],
      "text/plain": [
       "       previous_cancellations  booking_changes  days_in_waiting_list  \\\n",
       "count            83573.000000     83573.000000          83573.000000   \n",
       "mean                 0.086798         0.220897              2.330561   \n",
       "std                  0.841011         0.648635             17.673051   \n",
       "min                  0.000000         0.000000              0.000000   \n",
       "25%                  0.000000         0.000000              0.000000   \n",
       "50%                  0.000000         0.000000              0.000000   \n",
       "75%                  0.000000         0.000000              0.000000   \n",
       "max                 26.000000        21.000000            391.000000   \n",
       "\n",
       "       required_car_parking_spaces  total_of_special_requests   is_canceled  \n",
       "count                 83573.000000               83573.000000  83573.000000  \n",
       "mean                      0.062999                   0.573211      0.368277  \n",
       "std                       0.246919                   0.795163      0.482340  \n",
       "min                       0.000000                   0.000000      0.000000  \n",
       "25%                       0.000000                   0.000000      0.000000  \n",
       "50%                       0.000000                   0.000000      0.000000  \n",
       "75%                       0.000000                   1.000000      1.000000  \n",
       "max                       8.000000                   5.000000      1.000000  "
      ]
     },
     "metadata": {},
     "output_type": "display_data"
    },
    {
     "data": {
      "text/html": [
       "<div>\n",
       "<style scoped>\n",
       "    .dataframe tbody tr th:only-of-type {\n",
       "        vertical-align: middle;\n",
       "    }\n",
       "\n",
       "    .dataframe tbody tr th {\n",
       "        vertical-align: top;\n",
       "    }\n",
       "\n",
       "    .dataframe thead th {\n",
       "        text-align: right;\n",
       "    }\n",
       "</style>\n",
       "<table border=\"1\" class=\"dataframe\">\n",
       "  <thead>\n",
       "    <tr style=\"text-align: right;\">\n",
       "      <th></th>\n",
       "      <th>country</th>\n",
       "      <th>market_segment</th>\n",
       "      <th>deposit_type</th>\n",
       "      <th>customer_type</th>\n",
       "      <th>reserved_room_type</th>\n",
       "    </tr>\n",
       "  </thead>\n",
       "  <tbody>\n",
       "    <tr>\n",
       "      <th>count</th>\n",
       "      <td>83573</td>\n",
       "      <td>83573</td>\n",
       "      <td>83573</td>\n",
       "      <td>83573</td>\n",
       "      <td>83573</td>\n",
       "    </tr>\n",
       "    <tr>\n",
       "      <th>unique</th>\n",
       "      <td>163</td>\n",
       "      <td>8</td>\n",
       "      <td>3</td>\n",
       "      <td>4</td>\n",
       "      <td>10</td>\n",
       "    </tr>\n",
       "    <tr>\n",
       "      <th>top</th>\n",
       "      <td>PRT</td>\n",
       "      <td>Online TA</td>\n",
       "      <td>No Deposit</td>\n",
       "      <td>Transient</td>\n",
       "      <td>A</td>\n",
       "    </tr>\n",
       "    <tr>\n",
       "      <th>freq</th>\n",
       "      <td>34097</td>\n",
       "      <td>39460</td>\n",
       "      <td>73352</td>\n",
       "      <td>62732</td>\n",
       "      <td>60041</td>\n",
       "    </tr>\n",
       "  </tbody>\n",
       "</table>\n",
       "</div>"
      ],
      "text/plain": [
       "       country market_segment deposit_type customer_type reserved_room_type\n",
       "count    83573          83573        83573         83573              83573\n",
       "unique     163              8            3             4                 10\n",
       "top        PRT      Online TA   No Deposit     Transient                  A\n",
       "freq     34097          39460        73352         62732              60041"
      ]
     },
     "metadata": {},
     "output_type": "display_data"
    }
   ],
   "source": [
    "display(df.describe(), df.describe(include='object'))"
   ]
  },
  {
   "cell_type": "code",
   "execution_count": 11,
   "metadata": {},
   "outputs": [],
   "source": [
    "# Filter hanya kolom numerik\n",
    "numeric_columns = df.select_dtypes(include=['float64', 'int64']).columns"
   ]
  },
  {
   "cell_type": "code",
   "execution_count": 12,
   "metadata": {},
   "outputs": [
    {
     "data": {
      "text/plain": [
       "6"
      ]
     },
     "execution_count": 12,
     "metadata": {},
     "output_type": "execute_result"
    }
   ],
   "source": [
    "# Menentukan jumlah kolom dan baris untuk tata letak grid\n",
    "num_columns = len(numeric_columns)\n",
    "num_columns"
   ]
  },
  {
   "cell_type": "code",
   "execution_count": 13,
   "metadata": {},
   "outputs": [
    {
     "data": {
      "text/plain": [
       "2"
      ]
     },
     "execution_count": 13,
     "metadata": {},
     "output_type": "execute_result"
    }
   ],
   "source": [
    "num_rows = int((num_columns / 3) + (1 if num_columns % 3 > 0 else 0))\n",
    "num_rows"
   ]
  },
  {
   "cell_type": "code",
   "execution_count": 14,
   "metadata": {},
   "outputs": [
    {
     "data": {
      "image/png": "[encoded data removed]",
      "text/plain": [
       "<Figure size 1500x1000 with 6 Axes>"
      ]
     },
     "metadata": {},
     "output_type": "display_data"
    }
   ],
   "source": [
    "def visualize_boxplots(df):\n",
    "    # Filter hanya kolom numerik\n",
    "    numeric_columns = df.select_dtypes(include=['float64', 'int64']).columns\n",
    "\n",
    "    # Menentukan jumlah kolom dan baris untuk tata letak grid\n",
    "    num_columns = len(numeric_columns)\n",
    "    num_rows = int((num_columns / 3) + (1 if num_columns % 3 > 0 else 0))\n",
    "\n",
    "    # Menentukan ukuran gambar berdasarkan jumlah kolom\n",
    "    plt.figure(figsize=(15, 5 * num_rows))\n",
    "\n",
    "    # Menampilkan boxplot satu per satu untuk kolom numerik\n",
    "    for i, column in enumerate(numeric_columns, 1):\n",
    "        plt.subplot(num_rows, 3, i)\n",
    "        sns.boxplot(x=df[column])\n",
    "        plt.title(f'Boxplot for {column}')\n",
    "\n",
    "    # Menyesuaikan tata letak\n",
    "    plt.tight_layout()\n",
    "    plt.show()\n",
    "\n",
    "# Menampilkan boxplot satu per satu pada kolom numerik\n",
    "visualize_boxplots(df)"
   ]
  },
  {
   "cell_type": "code",
   "execution_count": 15,
   "metadata": {},
   "outputs": [
    {
     "data": {
      "text/html": [
       "<div>\n",
       "<style scoped>\n",
       "    .dataframe tbody tr th:only-of-type {\n",
       "        vertical-align: middle;\n",
       "    }\n",
       "\n",
       "    .dataframe tbody tr th {\n",
       "        vertical-align: top;\n",
       "    }\n",
       "\n",
       "    .dataframe thead th {\n",
       "        text-align: right;\n",
       "    }\n",
       "</style>\n",
       "<table border=\"1\" class=\"dataframe\">\n",
       "  <thead>\n",
       "    <tr style=\"text-align: right;\">\n",
       "      <th></th>\n",
       "      <th>country</th>\n",
       "      <th>market_segment</th>\n",
       "      <th>previous_cancellations</th>\n",
       "      <th>booking_changes</th>\n",
       "      <th>deposit_type</th>\n",
       "      <th>days_in_waiting_list</th>\n",
       "      <th>customer_type</th>\n",
       "      <th>reserved_room_type</th>\n",
       "      <th>required_car_parking_spaces</th>\n",
       "      <th>total_of_special_requests</th>\n",
       "      <th>is_canceled</th>\n",
       "    </tr>\n",
       "  </thead>\n",
       "  <tbody>\n",
       "    <tr>\n",
       "      <th>31274</th>\n",
       "      <td>PRT</td>\n",
       "      <td>Corporate</td>\n",
       "      <td>0</td>\n",
       "      <td>21</td>\n",
       "      <td>No Deposit</td>\n",
       "      <td>0</td>\n",
       "      <td>Transient-Party</td>\n",
       "      <td>A</td>\n",
       "      <td>0</td>\n",
       "      <td>0</td>\n",
       "      <td>0</td>\n",
       "    </tr>\n",
       "  </tbody>\n",
       "</table>\n",
       "</div>"
      ],
      "text/plain": [
       "      country market_segment  previous_cancellations  booking_changes  \\\n",
       "31274     PRT      Corporate                       0               21   \n",
       "\n",
       "      deposit_type  days_in_waiting_list    customer_type reserved_room_type  \\\n",
       "31274   No Deposit                     0  Transient-Party                  A   \n",
       "\n",
       "       required_car_parking_spaces  total_of_special_requests  is_canceled  \n",
       "31274                            0                          0            0  "
      ]
     },
     "execution_count": 15,
     "metadata": {},
     "output_type": "execute_result"
    }
   ],
   "source": [
    "df[df['booking_changes']>20].head() # 1 data"
   ]
  },
  {
   "cell_type": "code",
   "execution_count": 16,
   "metadata": {},
   "outputs": [
    {
     "data": {
      "text/html": [
       "<div>\n",
       "<style scoped>\n",
       "    .dataframe tbody tr th:only-of-type {\n",
       "        vertical-align: middle;\n",
       "    }\n",
       "\n",
       "    .dataframe tbody tr th {\n",
       "        vertical-align: top;\n",
       "    }\n",
       "\n",
       "    .dataframe thead th {\n",
       "        text-align: right;\n",
       "    }\n",
       "</style>\n",
       "<table border=\"1\" class=\"dataframe\">\n",
       "  <thead>\n",
       "    <tr style=\"text-align: right;\">\n",
       "      <th></th>\n",
       "      <th>country</th>\n",
       "      <th>market_segment</th>\n",
       "      <th>previous_cancellations</th>\n",
       "      <th>booking_changes</th>\n",
       "      <th>deposit_type</th>\n",
       "      <th>days_in_waiting_list</th>\n",
       "      <th>customer_type</th>\n",
       "      <th>reserved_room_type</th>\n",
       "      <th>required_car_parking_spaces</th>\n",
       "      <th>total_of_special_requests</th>\n",
       "      <th>is_canceled</th>\n",
       "    </tr>\n",
       "  </thead>\n",
       "  <tbody>\n",
       "    <tr>\n",
       "      <th>5970</th>\n",
       "      <td>PRT</td>\n",
       "      <td>Groups</td>\n",
       "      <td>0</td>\n",
       "      <td>0</td>\n",
       "      <td>Non Refund</td>\n",
       "      <td>391</td>\n",
       "      <td>Transient</td>\n",
       "      <td>A</td>\n",
       "      <td>0</td>\n",
       "      <td>0</td>\n",
       "      <td>1</td>\n",
       "    </tr>\n",
       "    <tr>\n",
       "      <th>6788</th>\n",
       "      <td>PRT</td>\n",
       "      <td>Groups</td>\n",
       "      <td>0</td>\n",
       "      <td>0</td>\n",
       "      <td>Non Refund</td>\n",
       "      <td>391</td>\n",
       "      <td>Transient</td>\n",
       "      <td>A</td>\n",
       "      <td>0</td>\n",
       "      <td>0</td>\n",
       "      <td>1</td>\n",
       "    </tr>\n",
       "    <tr>\n",
       "      <th>7227</th>\n",
       "      <td>PRT</td>\n",
       "      <td>Groups</td>\n",
       "      <td>0</td>\n",
       "      <td>0</td>\n",
       "      <td>Non Refund</td>\n",
       "      <td>391</td>\n",
       "      <td>Transient</td>\n",
       "      <td>A</td>\n",
       "      <td>0</td>\n",
       "      <td>0</td>\n",
       "      <td>1</td>\n",
       "    </tr>\n",
       "    <tr>\n",
       "      <th>8063</th>\n",
       "      <td>FRA</td>\n",
       "      <td>Groups</td>\n",
       "      <td>0</td>\n",
       "      <td>1</td>\n",
       "      <td>No Deposit</td>\n",
       "      <td>379</td>\n",
       "      <td>Transient-Party</td>\n",
       "      <td>A</td>\n",
       "      <td>0</td>\n",
       "      <td>1</td>\n",
       "      <td>0</td>\n",
       "    </tr>\n",
       "    <tr>\n",
       "      <th>11062</th>\n",
       "      <td>PRT</td>\n",
       "      <td>Groups</td>\n",
       "      <td>0</td>\n",
       "      <td>0</td>\n",
       "      <td>No Deposit</td>\n",
       "      <td>379</td>\n",
       "      <td>Transient-Party</td>\n",
       "      <td>A</td>\n",
       "      <td>0</td>\n",
       "      <td>0</td>\n",
       "      <td>1</td>\n",
       "    </tr>\n",
       "  </tbody>\n",
       "</table>\n",
       "</div>"
      ],
      "text/plain": [
       "      country market_segment  previous_cancellations  booking_changes  \\\n",
       "5970      PRT         Groups                       0                0   \n",
       "6788      PRT         Groups                       0                0   \n",
       "7227      PRT         Groups                       0                0   \n",
       "8063      FRA         Groups                       0                1   \n",
       "11062     PRT         Groups                       0                0   \n",
       "\n",
       "      deposit_type  days_in_waiting_list    customer_type reserved_room_type  \\\n",
       "5970    Non Refund                   391        Transient                  A   \n",
       "6788    Non Refund                   391        Transient                  A   \n",
       "7227    Non Refund                   391        Transient                  A   \n",
       "8063    No Deposit                   379  Transient-Party                  A   \n",
       "11062   No Deposit                   379  Transient-Party                  A   \n",
       "\n",
       "       required_car_parking_spaces  total_of_special_requests  is_canceled  \n",
       "5970                             0                          0            1  \n",
       "6788                             0                          0            1  \n",
       "7227                             0                          0            1  \n",
       "8063                             0                          1            0  \n",
       "11062                            0                          0            1  "
      ]
     },
     "execution_count": 16,
     "metadata": {},
     "output_type": "execute_result"
    }
   ],
   "source": [
    "df[df['days_in_waiting_list']>365].head() # 43 Datas"
   ]
  },
  {
   "cell_type": "code",
   "execution_count": 17,
   "metadata": {},
   "outputs": [
    {
     "data": {
      "text/html": [
       "<div>\n",
       "<style scoped>\n",
       "    .dataframe tbody tr th:only-of-type {\n",
       "        vertical-align: middle;\n",
       "    }\n",
       "\n",
       "    .dataframe tbody tr th {\n",
       "        vertical-align: top;\n",
       "    }\n",
       "\n",
       "    .dataframe thead th {\n",
       "        text-align: right;\n",
       "    }\n",
       "</style>\n",
       "<table border=\"1\" class=\"dataframe\">\n",
       "  <thead>\n",
       "    <tr style=\"text-align: right;\">\n",
       "      <th></th>\n",
       "      <th>country</th>\n",
       "      <th>market_segment</th>\n",
       "      <th>previous_cancellations</th>\n",
       "      <th>booking_changes</th>\n",
       "      <th>deposit_type</th>\n",
       "      <th>days_in_waiting_list</th>\n",
       "      <th>customer_type</th>\n",
       "      <th>reserved_room_type</th>\n",
       "      <th>required_car_parking_spaces</th>\n",
       "      <th>total_of_special_requests</th>\n",
       "      <th>is_canceled</th>\n",
       "    </tr>\n",
       "  </thead>\n",
       "  <tbody>\n",
       "    <tr>\n",
       "      <th>21979</th>\n",
       "      <td>AUT</td>\n",
       "      <td>Direct</td>\n",
       "      <td>0</td>\n",
       "      <td>1</td>\n",
       "      <td>No Deposit</td>\n",
       "      <td>122</td>\n",
       "      <td>Transient-Party</td>\n",
       "      <td>E</td>\n",
       "      <td>8</td>\n",
       "      <td>0</td>\n",
       "      <td>0</td>\n",
       "    </tr>\n",
       "    <tr>\n",
       "      <th>35802</th>\n",
       "      <td>AUT</td>\n",
       "      <td>Direct</td>\n",
       "      <td>0</td>\n",
       "      <td>1</td>\n",
       "      <td>No Deposit</td>\n",
       "      <td>0</td>\n",
       "      <td>Transient-Party</td>\n",
       "      <td>E</td>\n",
       "      <td>8</td>\n",
       "      <td>1</td>\n",
       "      <td>0</td>\n",
       "    </tr>\n",
       "  </tbody>\n",
       "</table>\n",
       "</div>"
      ],
      "text/plain": [
       "      country market_segment  previous_cancellations  booking_changes  \\\n",
       "21979     AUT         Direct                       0                1   \n",
       "35802     AUT         Direct                       0                1   \n",
       "\n",
       "      deposit_type  days_in_waiting_list    customer_type reserved_room_type  \\\n",
       "21979   No Deposit                   122  Transient-Party                  E   \n",
       "35802   No Deposit                     0  Transient-Party                  E   \n",
       "\n",
       "       required_car_parking_spaces  total_of_special_requests  is_canceled  \n",
       "21979                            8                          0            0  \n",
       "35802                            8                          1            0  "
      ]
     },
     "execution_count": 17,
     "metadata": {},
     "output_type": "execute_result"
    }
   ],
   "source": [
    "df[df['required_car_parking_spaces']>3].head() # 2 Datas"
   ]
  },
  {
   "cell_type": "code",
   "execution_count": 18,
   "metadata": {},
   "outputs": [],
   "source": [
    "# Mendefinisikan limitasi model dari outlier handling\n",
    "df2 = df.copy()\n",
    "\n",
    "df.drop(df[df['booking_changes']>20].index, inplace=True)\n",
    "df.drop(df[df['days_in_waiting_list']>365].index, inplace=True)\n",
    "df.drop(df[df['required_car_parking_spaces']>3].index, inplace=True)"
   ]
  },
  {
   "cell_type": "markdown",
   "metadata": {},
   "source": [
    "Model machine learning yang akan dibuat memiliki batasan konteks `booking_changes` <= 20, `days_in_waiting_list` <= 365, dan `required_car_parking_spaces` <= 3"
   ]
  },
  {
   "cell_type": "code",
   "execution_count": 19,
   "metadata": {},
   "outputs": [],
   "source": [
    "# # Menentukan path (lokasi) dan nama file CSV yang diinginkan\n",
    "# file_csv = 'E:/Penyimpanan Utama (C)/Purwadhika Coding School/Orientasi/Modul 3/Github Caps M3/data_hotel_booking_demand_cln.csv'\n",
    "# file_csv2 = 'E:/Penyimpanan Utama (C)/Purwadhika Coding School/Orientasi/Modul 3/Github Caps M3/data_hotel_booking_demand_cln2.csv'\n",
    "# file_csv3 = 'E:/Penyimpanan Utama (C)/Purwadhika Coding School/Orientasi/Modul 3/Github Caps M3/data_hotel_booking_demand_cln3.csv'\n",
    "\n",
    "# # Menyimpan DataFrame ke dalam file CSV\n",
    "# df.to_csv(file_csv, index=False)\n",
    "# df2.to_csv(file_csv2, index=False)\n",
    "# df3.to_csv(file_csv3, index=False)"
   ]
  },
  {
   "cell_type": "markdown",
   "metadata": {},
   "source": [
    "## **FEATURE ENGINEERING**"
   ]
  },
  {
   "cell_type": "code",
   "execution_count": 20,
   "metadata": {},
   "outputs": [
    {
     "data": {
      "text/html": [
       "<div>\n",
       "<style scoped>\n",
       "    .dataframe tbody tr th:only-of-type {\n",
       "        vertical-align: middle;\n",
       "    }\n",
       "\n",
       "    .dataframe tbody tr th {\n",
       "        vertical-align: top;\n",
       "    }\n",
       "\n",
       "    .dataframe thead th {\n",
       "        text-align: right;\n",
       "    }\n",
       "</style>\n",
       "<table border=\"1\" class=\"dataframe\">\n",
       "  <thead>\n",
       "    <tr style=\"text-align: right;\">\n",
       "      <th></th>\n",
       "      <th>Column Name</th>\n",
       "      <th>Number of Unique</th>\n",
       "      <th>Unique Sample</th>\n",
       "    </tr>\n",
       "  </thead>\n",
       "  <tbody>\n",
       "    <tr>\n",
       "      <th>0</th>\n",
       "      <td>country</td>\n",
       "      <td>163</td>\n",
       "      <td>[IRL, FRA, PRT, NLD, ESP, UMI, CN, LUX, BRA, BEL, JPN, DEU, ITA, CHE, GBR, AGO, SRB, COL, CHN, SWE, AUT, CIV, CZE, POL, USA, SGP, RUS, ROU, DNK, IND, MAR, PHL, ARG, ISL, ZAF, LBN, MOZ, TUR, BGD, MEX, CAF, NOR, FIN, UKR, EGY, ISR, Other, KOR, AZE, HUN, AUS, EST, CHL, SVN, PRY, ABW, ALB, LTU, ARE, HRV, SAU, NZL, LVA, ATA, KAZ, DZA, TWN, CRI, BIH, BGR, IRQ, OMN, VEN, IDN, GEO, MLT, IRN, BLR, URY, LBY, TUN, BEN, MYS, MWI, GRC, CYP, CPV, HKG, PRI, MKD, MUS, IMN, PAN, NGA, GLP, KHM, PER, QAT, SEN, MAC, ...]</td>\n",
       "    </tr>\n",
       "    <tr>\n",
       "      <th>1</th>\n",
       "      <td>market_segment</td>\n",
       "      <td>8</td>\n",
       "      <td>[Offline TA/TO, Online TA, Direct, Groups, Corporate, Complementary, Aviation, Undefined]</td>\n",
       "    </tr>\n",
       "    <tr>\n",
       "      <th>2</th>\n",
       "      <td>previous_cancellations</td>\n",
       "      <td>15</td>\n",
       "      <td>[0, 1, 25, 2, 3, 11, 24, 13, 6, 26, 14, 4, 19, 5, 21]</td>\n",
       "    </tr>\n",
       "    <tr>\n",
       "      <th>3</th>\n",
       "      <td>booking_changes</td>\n",
       "      <td>18</td>\n",
       "      <td>[0, 1, 2, 5, 3, 4, 6, 7, 9, 8, 17, 10, 13, 12, 14, 16, 20, 15]</td>\n",
       "    </tr>\n",
       "    <tr>\n",
       "      <th>4</th>\n",
       "      <td>deposit_type</td>\n",
       "      <td>3</td>\n",
       "      <td>[No Deposit, Non Refund, Refundable]</td>\n",
       "    </tr>\n",
       "    <tr>\n",
       "      <th>5</th>\n",
       "      <td>days_in_waiting_list</td>\n",
       "      <td>113</td>\n",
       "      <td>[0, 3, 39, 87, 77, 215, 97, 162, 46, 79, 4, 31, 122, 34, 57, 259, 50, 17, 32, 43, 75, 69, 44, 22, 113, 58, 38, 65, 48, 236, 176, 25, 108, 91, 19, 160, 68, 28, 63, 35, 42, 59, 24, 8, 183, 187, 21, 111, 56, 98, 101, 15, 16, 47, 93, 45, 14, 70, 10, 49, 178, 99, 60, 40, 85, 223, 6, 33, 20, 1, 41, 147, 55, 80, 150, 61, 330, 174, 107, 96, 18, 62, 13, 30, 120, 27, 207, 71, 2, 76, 125, 5, 9, 224, 53, 83, 84, 12, 73, 100, ...]</td>\n",
       "    </tr>\n",
       "    <tr>\n",
       "      <th>6</th>\n",
       "      <td>customer_type</td>\n",
       "      <td>4</td>\n",
       "      <td>[Transient-Party, Transient, Contract, Group]</td>\n",
       "    </tr>\n",
       "    <tr>\n",
       "      <th>7</th>\n",
       "      <td>reserved_room_type</td>\n",
       "      <td>10</td>\n",
       "      <td>[A, E, D, F, B, G, C, H, L, P]</td>\n",
       "    </tr>\n",
       "    <tr>\n",
       "      <th>8</th>\n",
       "      <td>required_car_parking_spaces</td>\n",
       "      <td>4</td>\n",
       "      <td>[0, 1, 2, 3]</td>\n",
       "    </tr>\n",
       "    <tr>\n",
       "      <th>9</th>\n",
       "      <td>total_of_special_requests</td>\n",
       "      <td>6</td>\n",
       "      <td>[0, 2, 1, 3, 4, 5]</td>\n",
       "    </tr>\n",
       "    <tr>\n",
       "      <th>10</th>\n",
       "      <td>is_canceled</td>\n",
       "      <td>2</td>\n",
       "      <td>[0, 1]</td>\n",
       "    </tr>\n",
       "  </tbody>\n",
       "</table>\n",
       "</div>"
      ],
      "text/plain": [
       "                    Column Name  Number of Unique  \\\n",
       "0                       country               163   \n",
       "1                market_segment                 8   \n",
       "2        previous_cancellations                15   \n",
       "3               booking_changes                18   \n",
       "4                  deposit_type                 3   \n",
       "5          days_in_waiting_list               113   \n",
       "6                 customer_type                 4   \n",
       "7            reserved_room_type                10   \n",
       "8   required_car_parking_spaces                 4   \n",
       "9     total_of_special_requests                 6   \n",
       "10                  is_canceled                 2   \n",
       "\n",
       "                                                                                                                                                                                                                                                                                                                                                                                                                                                                                                                 Unique Sample  \n",
       "0   [IRL, FRA, PRT, NLD, ESP, UMI, CN, LUX, BRA, BEL, JPN, DEU, ITA, CHE, GBR, AGO, SRB, COL, CHN, SWE, AUT, CIV, CZE, POL, USA, SGP, RUS, ROU, DNK, IND, MAR, PHL, ARG, ISL, ZAF, LBN, MOZ, TUR, BGD, MEX, CAF, NOR, FIN, UKR, EGY, ISR, Other, KOR, AZE, HUN, AUS, EST, CHL, SVN, PRY, ABW, ALB, LTU, ARE, HRV, SAU, NZL, LVA, ATA, KAZ, DZA, TWN, CRI, BIH, BGR, IRQ, OMN, VEN, IDN, GEO, MLT, IRN, BLR, URY, LBY, TUN, BEN, MYS, MWI, GRC, CYP, CPV, HKG, PRI, MKD, MUS, IMN, PAN, NGA, GLP, KHM, PER, QAT, SEN, MAC, ...]  \n",
       "1                                                                                                                                                                                                                                                                                                                                                                                                                                    [Offline TA/TO, Online TA, Direct, Groups, Corporate, Complementary, Aviation, Undefined]  \n",
       "2                                                                                                                                                                                                                                                                                                                                                                                                                                                                        [0, 1, 25, 2, 3, 11, 24, 13, 6, 26, 14, 4, 19, 5, 21]  \n",
       "3                                                                                                                                                                                                                                                                                                                                                                                                                                                               [0, 1, 2, 5, 3, 4, 6, 7, 9, 8, 17, 10, 13, 12, 14, 16, 20, 15]  \n",
       "4                                                                                                                                                                                                                                                                                                                                                                                                                                                                                         [No Deposit, Non Refund, Refundable]  \n",
       "5                                                                                        [0, 3, 39, 87, 77, 215, 97, 162, 46, 79, 4, 31, 122, 34, 57, 259, 50, 17, 32, 43, 75, 69, 44, 22, 113, 58, 38, 65, 48, 236, 176, 25, 108, 91, 19, 160, 68, 28, 63, 35, 42, 59, 24, 8, 183, 187, 21, 111, 56, 98, 101, 15, 16, 47, 93, 45, 14, 70, 10, 49, 178, 99, 60, 40, 85, 223, 6, 33, 20, 1, 41, 147, 55, 80, 150, 61, 330, 174, 107, 96, 18, 62, 13, 30, 120, 27, 207, 71, 2, 76, 125, 5, 9, 224, 53, 83, 84, 12, 73, 100, ...]  \n",
       "6                                                                                                                                                                                                                                                                                                                                                                                                                                                                                [Transient-Party, Transient, Contract, Group]  \n",
       "7                                                                                                                                                                                                                                                                                                                                                                                                                                                                                               [A, E, D, F, B, G, C, H, L, P]  \n",
       "8                                                                                                                                                                                                                                                                                                                                                                                                                                                                                                                 [0, 1, 2, 3]  \n",
       "9                                                                                                                                                                                                                                                                                                                                                                                                                                                                                                           [0, 2, 1, 3, 4, 5]  \n",
       "10                                                                                                                                                                                                                                                                                                                                                                                                                                                                                                                      [0, 1]  "
      ]
     },
     "execution_count": 20,
     "metadata": {},
     "output_type": "execute_result"
    }
   ],
   "source": [
    "# Exploratory Data Analysis (EDA)\n",
    "\n",
    "# Understanding the data from the amount of unique values in each column\n",
    "pd.set_option('display.max_colwidth', 100000) # unique datas in every columns\n",
    "\n",
    "unique_list = []\n",
    "for col in df.columns :\n",
    "    unique_list.append( [col, df[col].nunique(), df[col].unique()])\n",
    "\n",
    "unique_table = pd.DataFrame(columns=['Column Name', 'Number of Unique', 'Unique Sample'],\n",
    "                     data=unique_list)\n",
    "unique_table"
   ]
  },
  {
   "cell_type": "code",
   "execution_count": 21,
   "metadata": {},
   "outputs": [],
   "source": [
    "df_prep = df.copy()    # menyimpan hasil encoding\n",
    "df_prepa = df.copy()\n",
    "df_dummy = df.copy()   # untuk menyimpan sementara"
   ]
  },
  {
   "cell_type": "markdown",
   "metadata": {},
   "source": [
    "### **Binning, Encoding, dan Scaling**"
   ]
  },
  {
   "cell_type": "markdown",
   "metadata": {},
   "source": [
    "preprocess scheme:\n",
    "1. Binning : country, market_segment, days_in_waiting_list\n",
    "1. One hot encoding : country, market_segment, deposit_type, customer_type, required_car_parking_spaces\n",
    "1. Ordinal encoding : days_in_waiting_list\n",
    "1. Binary encoding : reserved_room_type\n",
    "1. Robust scaler : previous_cancellations, booking_changes, total_of_special_requests"
   ]
  },
  {
   "cell_type": "markdown",
   "metadata": {},
   "source": [
    "### **`country`**"
   ]
  },
  {
   "cell_type": "code",
   "execution_count": 22,
   "metadata": {},
   "outputs": [
    {
     "data": {
      "text/html": [
       "<div>\n",
       "<style scoped>\n",
       "    .dataframe tbody tr th:only-of-type {\n",
       "        vertical-align: middle;\n",
       "    }\n",
       "\n",
       "    .dataframe tbody tr th {\n",
       "        vertical-align: top;\n",
       "    }\n",
       "\n",
       "    .dataframe thead th {\n",
       "        text-align: right;\n",
       "    }\n",
       "</style>\n",
       "<table border=\"1\" class=\"dataframe\">\n",
       "  <thead>\n",
       "    <tr style=\"text-align: right;\">\n",
       "      <th>col_0</th>\n",
       "      <th>Number of Bookings(%)</th>\n",
       "    </tr>\n",
       "    <tr>\n",
       "      <th>continent</th>\n",
       "      <th></th>\n",
       "    </tr>\n",
       "  </thead>\n",
       "  <tbody>\n",
       "    <tr>\n",
       "      <th>Europe</th>\n",
       "      <td>90.33</td>\n",
       "    </tr>\n",
       "    <tr>\n",
       "      <th>Asia</th>\n",
       "      <td>3.73</td>\n",
       "    </tr>\n",
       "    <tr>\n",
       "      <th>South America</th>\n",
       "      <td>2.26</td>\n",
       "    </tr>\n",
       "    <tr>\n",
       "      <th>North America</th>\n",
       "      <td>1.91</td>\n",
       "    </tr>\n",
       "    <tr>\n",
       "      <th>Africa</th>\n",
       "      <td>0.92</td>\n",
       "    </tr>\n",
       "    <tr>\n",
       "      <th>Oceania</th>\n",
       "      <td>0.42</td>\n",
       "    </tr>\n",
       "    <tr>\n",
       "      <th>Unknown</th>\n",
       "      <td>0.42</td>\n",
       "    </tr>\n",
       "    <tr>\n",
       "      <th>Antarctica</th>\n",
       "      <td>0.00</td>\n",
       "    </tr>\n",
       "  </tbody>\n",
       "</table>\n",
       "</div>"
      ],
      "text/plain": [
       "col_0          Number of Bookings(%)\n",
       "continent                           \n",
       "Europe                         90.33\n",
       "Asia                            3.73\n",
       "South America                   2.26\n",
       "North America                   1.91\n",
       "Africa                          0.92\n",
       "Oceania                         0.42\n",
       "Unknown                         0.42\n",
       "Antarctica                      0.00"
      ]
     },
     "execution_count": 22,
     "metadata": {},
     "output_type": "execute_result"
    }
   ],
   "source": [
    "# Membuat pemetaan antara kode negara dan benua\n",
    "continent_mapping = {\n",
    "'IRL': 'Europe','FRA': 'Europe','PRT': 'Europe','NLD': 'Europe','ESP': 'Europe','UMI': 'North America','CN': 'Asia',\n",
    "'LUX': 'Europe','BRA': 'South America','BEL': 'Europe','JPN': 'Asia','DEU': 'Europe','ITA': 'Europe','CHE': 'Europe',\n",
    "'GBR': 'Europe','AGO': 'Africa','SRB': 'Europe','COL': 'South America','CHN': 'Asia','SWE': 'Europe','AUT': 'Europe',\n",
    "'CIV': 'Africa','CZE': 'Europe','POL': 'Europe','USA': 'North America','SGP': 'Asia','RUS': 'Europe','ROU': 'Europe',\n",
    "'DNK': 'Europe','IND': 'Asia','MAR': 'Africa','PHL': 'Asia','ARG': 'South America','ISL': 'Europe','ZAF': 'Africa',\n",
    "'LBN': 'Asia','MOZ': 'Africa','TUR': 'Asia','BGD': 'Asia','MEX': 'North America','CAF': 'Africa','NOR': 'Europe','FIN': 'Europe',\n",
    "'UKR': 'Europe','EGY': 'Africa','ISR': 'Asia','Other': 'Unknown','KOR': 'Asia','AZE': 'Asia','HUN': 'Europe','AUS': 'Oceania',\n",
    "'EST': 'Europe','CHL': 'South America','SVN': 'Europe','PRY': 'South America','ABW': 'North America','ALB': 'Europe','LTU': 'Europe',\n",
    "'ARE': 'Asia','HRV': 'Europe','SAU': 'Asia','NZL': 'Oceania','LVA': 'Europe','ATA': 'Antarctica','KAZ': 'Asia','DZA': 'Africa',\n",
    "'TWN': 'Asia','CRI': 'North America','BIH': 'Europe','BGR': 'Europe','IRQ': 'Asia','OMN': 'Asia','VEN': 'South America','IDN': 'Asia',\n",
    "'GEO': 'Asia','MLT': 'Europe','IRN': 'Asia','BLR': 'Europe','URY': 'South America','LBY': 'Africa','TUN': 'Africa','BEN': 'Africa',\n",
    "'MYS': 'Asia','MWI': 'Africa','GRC': 'Europe','CYP': 'Asia','CPV': 'Africa','HKG': 'Asia','PRI': 'North America','MKD': 'Europe',\n",
    "'MUS': 'Africa','IMN': 'Europe','PAN': 'North America','NGA': 'Africa','GLP': 'North America','KHM': 'Asia','PER': 'South America','QAT': 'Asia',\n",
    "'SEN': 'Africa','MAC': 'Asia','SVK': 'Europe','BHR': 'Asia','ECU': 'South America','SYC': 'Africa','BOL': 'South America','TJK': 'Asia',\n",
    "'LCA': 'North America','MDV': 'Asia','SYR': 'Asia','ZMB': 'Africa','LIE': 'Europe','THA': 'Asia','MNE': 'Europe','BRB': 'North America',\n",
    "'CMR': 'Africa','JEY': 'Europe','GTM': 'North America','LKA': 'Asia','JOR': 'Asia','TZA': 'Africa','AND': 'Europe','ARM': 'Asia','GIB': 'Europe',\n",
    "'VNM': 'Asia','PAK': 'Asia','JAM': 'North America','DOM': 'North America','KWT': 'Asia','LAO': 'Asia','RWA': 'Africa','FRO': 'Europe',\n",
    "'GAB': 'Africa','ETH': 'Africa','CUB': 'North America','COM': 'Africa','GNB': 'Africa','GGY': 'Europe','NIC': 'North America','TGO': 'Africa',\n",
    "'TMP': 'Asia','CYM': 'North America','GHA': 'Africa','SLE': 'Africa','BWA': 'Africa','NCL': 'Oceania','UZB': 'Asia','SUR': 'South America',\n",
    "'SDN': 'Africa','PLW': 'Oceania','MLI': 'Africa','MMR': 'Asia','BFA': 'Africa','SLV': 'North America','BDI': 'Africa','ZWE': 'Africa',\n",
    "'UGA': 'Africa','DMA': 'North America','VGB': 'North America','KIR': 'Oceania','KEN': 'Africa','MYT': 'Africa','KNA': 'North America',\n",
    "'AIA': 'North America'\n",
    "}\n",
    "\n",
    "# Tambahkan kolom 'benua' berdasarkan pemetaan\n",
    "df_prep['continent'] = df_prep['country'].map(continent_mapping)\n",
    "column = ['country','market_segment','previous_cancellations','booking_changes','deposit_type','days_in_waiting_list',\n",
    "                           'customer_type','reserved_room_type','required_car_parking_spaces','total_of_special_requests','is_canceled']\n",
    "df_prep = df_prep.drop(column, axis=1)\n",
    "\n",
    "\n",
    "(pd.crosstab(index=df_prep['continent'], columns='Number of Bookings(%)', normalize=True)*100).round(2).sort_values('Number of Bookings(%)', ascending=False).head(10)"
   ]
  },
  {
   "cell_type": "code",
   "execution_count": 23,
   "metadata": {},
   "outputs": [
    {
     "name": "stdout",
     "output_type": "stream",
     "text": [
      "['Europe' 'North America' 'Asia' 'South America' 'Africa' 'Unknown'\n",
      " 'Oceania' 'Antarctica']\n"
     ]
    },
    {
     "data": {
      "text/plain": [
       "Index(['continent', 'market_segment', 'previous_cancellations',\n",
       "       'booking_changes', 'deposit_type', 'days_in_waiting_list',\n",
       "       'customer_type', 'reserved_room_type', 'required_car_parking_spaces',\n",
       "       'total_of_special_requests', 'is_canceled'],\n",
       "      dtype='object')"
      ]
     },
     "execution_count": 23,
     "metadata": {},
     "output_type": "execute_result"
    }
   ],
   "source": [
    "# Fungsi untuk mengubah kode negara menjadi benua\n",
    "def count_code(code):\n",
    "    return continent_mapping.get(code, 'Unknown')\n",
    "\n",
    "# Menerapkan fungsi ke kolom 'negara' menggunakan apply\n",
    "df_prepa['country'] = df_prepa['country'].apply(count_code)\n",
    "df_prepa = df_prepa.rename(columns={'country': 'continent'})\n",
    "\n",
    "print(df_prepa['continent'].unique())\n",
    "df_prepa.columns"
   ]
  },
  {
   "cell_type": "code",
   "execution_count": 24,
   "metadata": {},
   "outputs": [
    {
     "data": {
      "text/plain": [
       "continent\n",
       "Europe           75453\n",
       "Asia              3117\n",
       "South America     1891\n",
       "North America     1594\n",
       "Africa             767\n",
       "Oceania            353\n",
       "Unknown            351\n",
       "Antarctica           1\n",
       "Name: count, dtype: int64"
      ]
     },
     "execution_count": 24,
     "metadata": {},
     "output_type": "execute_result"
    }
   ],
   "source": [
    "df_prepa['continent'].value_counts()"
   ]
  },
  {
   "cell_type": "markdown",
   "metadata": {},
   "source": [
    "Pengambilan informasi hanya kepada 2 kelas terbanyak yaitu Europe dan Asia untuk menghindari multicolinearity dan kompleksitas dari model yang akan dibuat"
   ]
  },
  {
   "cell_type": "code",
   "execution_count": 25,
   "metadata": {},
   "outputs": [],
   "source": [
    "def segment(x):\n",
    "    if x == 'Europe':\n",
    "        return x\n",
    "    elif x == 'Asia':\n",
    "        return x\n",
    "    elif x == 'South America':\n",
    "        return x\n",
    "    elif x == 'North America':\n",
    "        return x\n",
    "    else:\n",
    "        return 'Others'"
   ]
  },
  {
   "cell_type": "code",
   "execution_count": 26,
   "metadata": {},
   "outputs": [
    {
     "data": {
      "text/plain": [
       "array(['Europe', 'North America', 'Asia', 'South America', 'Others'],\n",
       "      dtype=object)"
      ]
     },
     "execution_count": 26,
     "metadata": {},
     "output_type": "execute_result"
    }
   ],
   "source": [
    "# Mengubah kontinen dengan persentase rendah menjadi 1 kategori 'Other' sehingga binning menjadi 4 kategori\n",
    "df_prepa['continent'] = df_prep['continent'].apply(segment)\n",
    "# df_prep = pd.get_dummies(df_prep, dtype = int, columns=['continent'])\n",
    "# df_prepa.drop(columns=['country', 'market_segment','previous_cancellations','booking_changes','deposit_type','days_in_waiting_list',\n",
    "#                        'customer_type','reserved_room_type','required_car_parking_spaces','total_of_special_requests',\n",
    "#                        'is_canceled'], inplace=True)\n",
    "df_prepa['continent'].unique()"
   ]
  },
  {
   "cell_type": "markdown",
   "metadata": {},
   "source": [
    "### **`market_segment`**"
   ]
  },
  {
   "cell_type": "code",
   "execution_count": 27,
   "metadata": {},
   "outputs": [
    {
     "data": {
      "text/html": [
       "<div>\n",
       "<style scoped>\n",
       "    .dataframe tbody tr th:only-of-type {\n",
       "        vertical-align: middle;\n",
       "    }\n",
       "\n",
       "    .dataframe tbody tr th {\n",
       "        vertical-align: top;\n",
       "    }\n",
       "\n",
       "    .dataframe thead th {\n",
       "        text-align: right;\n",
       "    }\n",
       "</style>\n",
       "<table border=\"1\" class=\"dataframe\">\n",
       "  <thead>\n",
       "    <tr style=\"text-align: right;\">\n",
       "      <th>col_0</th>\n",
       "      <th>Number of Bookings(%)</th>\n",
       "    </tr>\n",
       "    <tr>\n",
       "      <th>market_segment</th>\n",
       "      <th></th>\n",
       "    </tr>\n",
       "  </thead>\n",
       "  <tbody>\n",
       "    <tr>\n",
       "      <th>Online TA</th>\n",
       "      <td>47.24</td>\n",
       "    </tr>\n",
       "    <tr>\n",
       "      <th>Offline TA/TO</th>\n",
       "      <td>20.38</td>\n",
       "    </tr>\n",
       "    <tr>\n",
       "      <th>Groups</th>\n",
       "      <td>16.38</td>\n",
       "    </tr>\n",
       "    <tr>\n",
       "      <th>Direct</th>\n",
       "      <td>10.65</td>\n",
       "    </tr>\n",
       "    <tr>\n",
       "      <th>Corporate</th>\n",
       "      <td>4.54</td>\n",
       "    </tr>\n",
       "    <tr>\n",
       "      <th>Complementary</th>\n",
       "      <td>0.61</td>\n",
       "    </tr>\n",
       "    <tr>\n",
       "      <th>Aviation</th>\n",
       "      <td>0.20</td>\n",
       "    </tr>\n",
       "    <tr>\n",
       "      <th>Undefined</th>\n",
       "      <td>0.00</td>\n",
       "    </tr>\n",
       "  </tbody>\n",
       "</table>\n",
       "</div>"
      ],
      "text/plain": [
       "col_0           Number of Bookings(%)\n",
       "market_segment                       \n",
       "Online TA                       47.24\n",
       "Offline TA/TO                   20.38\n",
       "Groups                          16.38\n",
       "Direct                          10.65\n",
       "Corporate                        4.54\n",
       "Complementary                    0.61\n",
       "Aviation                         0.20\n",
       "Undefined                        0.00"
      ]
     },
     "execution_count": 27,
     "metadata": {},
     "output_type": "execute_result"
    }
   ],
   "source": [
    "(pd.crosstab(index=df['market_segment'], columns='Number of Bookings(%)', normalize=True)*100).round(2).sort_values('Number of Bookings(%)', ascending=False).head(10)"
   ]
  },
  {
   "cell_type": "markdown",
   "metadata": {},
   "source": [
    "Dari tabel diatas mayoritas pemesanan kamar hotel di pesan oleh customer melalui Online Travel Agent. Dikarenakan segment lain memiliki presentase yang kecil maka kita akan mengelompokan segment-segment tersebut ke dalam kategori 'Others'"
   ]
  },
  {
   "cell_type": "code",
   "execution_count": 28,
   "metadata": {},
   "outputs": [],
   "source": [
    "def segment2(x):\n",
    "    if x == 'Online TA':\n",
    "        return x\n",
    "    elif x == 'Offline TA/TO':\n",
    "        return x\n",
    "    if x == 'Groups':\n",
    "        return x\n",
    "    else:\n",
    "        return 'Others'"
   ]
  },
  {
   "cell_type": "code",
   "execution_count": 29,
   "metadata": {},
   "outputs": [
    {
     "name": "stdout",
     "output_type": "stream",
     "text": [
      "['Offline TA/TO' 'Online TA' 'Others' 'Groups']\n"
     ]
    },
    {
     "data": {
      "text/plain": [
       "Index(['continent', 'market_segment', 'previous_cancellations',\n",
       "       'booking_changes', 'deposit_type', 'days_in_waiting_list',\n",
       "       'customer_type', 'reserved_room_type', 'required_car_parking_spaces',\n",
       "       'total_of_special_requests', 'is_canceled'],\n",
       "      dtype='object')"
      ]
     },
     "execution_count": 29,
     "metadata": {},
     "output_type": "execute_result"
    }
   ],
   "source": [
    "df_prepa['market_segment'] = df_prepa['market_segment'].apply(segment2)\n",
    "print(df_prepa['market_segment'].unique())\n",
    "df_prepa.columns"
   ]
  },
  {
   "cell_type": "markdown",
   "metadata": {},
   "source": [
    "### **`deposit_type`, `customer_type`, `required_car_parking_spaces`**"
   ]
  },
  {
   "cell_type": "markdown",
   "metadata": {},
   "source": [
    "1. Pada kolom `deposit_type` diambil informasi yang paling dominan (No Deposit)\n",
    "1. Pada kolom `customer_type` diambil informasi 2 kelas yang paling dominan (transient dan Transient-Party)\n",
    "1. Sedangkan kolom `required_car_parking_spaces` diambil informasi customer yang membutuhkan tempat parkir lebih dari 1"
   ]
  },
  {
   "cell_type": "code",
   "execution_count": 30,
   "metadata": {},
   "outputs": [
    {
     "data": {
      "text/plain": [
       "deposit_type\n",
       "No Deposit    73339\n",
       "Non Refund    10078\n",
       "Refundable      110\n",
       "Name: count, dtype: int64"
      ]
     },
     "metadata": {},
     "output_type": "display_data"
    },
    {
     "data": {
      "text/plain": [
       "customer_type\n",
       "Transient          62699\n",
       "Transient-Party    17523\n",
       "Contract            2882\n",
       "Group                423\n",
       "Name: count, dtype: int64"
      ]
     },
     "metadata": {},
     "output_type": "display_data"
    },
    {
     "data": {
      "text/plain": [
       "required_car_parking_spaces\n",
       "0    78302\n",
       "1     5202\n",
       "2       22\n",
       "3        1\n",
       "Name: count, dtype: int64"
      ]
     },
     "metadata": {},
     "output_type": "display_data"
    }
   ],
   "source": [
    "display(df_prepa['deposit_type'].value_counts(),df_prepa['customer_type'].value_counts(), df_prepa['required_car_parking_spaces'].value_counts())"
   ]
  },
  {
   "cell_type": "code",
   "execution_count": 31,
   "metadata": {},
   "outputs": [],
   "source": [
    "# def segment3(x):\n",
    "#     if x == 'No Deposit':\n",
    "#         return x\n",
    "#     else:\n",
    "#         return 'Others'\n",
    "    \n",
    "def segment4(x):\n",
    "    if x == 'Transient':\n",
    "        return x\n",
    "    elif x == 'Transient-Party':\n",
    "        return x\n",
    "    elif x == 'Contract':\n",
    "        return x\n",
    "    else:\n",
    "        return 'Others'\n",
    "\n",
    "def segment5(x):\n",
    "    if x == 1:\n",
    "        return x\n",
    "    elif x == 2:\n",
    "        return x\n",
    "    elif x == 3:\n",
    "        return x\n",
    "    else:\n",
    "        return 'Others'"
   ]
  },
  {
   "cell_type": "code",
   "execution_count": 32,
   "metadata": {},
   "outputs": [
    {
     "data": {
      "text/plain": [
       "deposit_type\n",
       "No Deposit    73339\n",
       "Non Refund    10078\n",
       "Refundable      110\n",
       "Name: count, dtype: int64"
      ]
     },
     "metadata": {},
     "output_type": "display_data"
    },
    {
     "data": {
      "text/plain": [
       "customer_type\n",
       "Transient          62699\n",
       "Transient-Party    17523\n",
       "Contract            2882\n",
       "Others               423\n",
       "Name: count, dtype: int64"
      ]
     },
     "metadata": {},
     "output_type": "display_data"
    },
    {
     "data": {
      "text/plain": [
       "required_car_parking_spaces\n",
       "Others    78302\n",
       "1          5202\n",
       "2            22\n",
       "3             1\n",
       "Name: count, dtype: int64"
      ]
     },
     "metadata": {},
     "output_type": "display_data"
    }
   ],
   "source": [
    "# df_prepa['deposit_type'] = df_prepa['deposit_type'].apply(segment3)\n",
    "df_prepa['customer_type'] = df_prepa['customer_type'].apply(segment4)\n",
    "df_prepa['required_car_parking_spaces'] = df_prepa['required_car_parking_spaces'].apply(segment5)\n",
    "display(df_prepa['deposit_type'].value_counts(),df_prepa['customer_type'].value_counts(), df_prepa['required_car_parking_spaces'].value_counts())"
   ]
  },
  {
   "cell_type": "markdown",
   "metadata": {},
   "source": [
    "### **`reserved_room_type`**"
   ]
  },
  {
   "cell_type": "code",
   "execution_count": 33,
   "metadata": {},
   "outputs": [
    {
     "data": {
      "text/html": [
       "<div>\n",
       "<style scoped>\n",
       "    .dataframe tbody tr th:only-of-type {\n",
       "        vertical-align: middle;\n",
       "    }\n",
       "\n",
       "    .dataframe tbody tr th {\n",
       "        vertical-align: top;\n",
       "    }\n",
       "\n",
       "    .dataframe thead th {\n",
       "        text-align: right;\n",
       "    }\n",
       "</style>\n",
       "<table border=\"1\" class=\"dataframe\">\n",
       "  <thead>\n",
       "    <tr style=\"text-align: right;\">\n",
       "      <th>col_0</th>\n",
       "      <th>Number of Bookings(%)</th>\n",
       "    </tr>\n",
       "    <tr>\n",
       "      <th>reserved_room_type</th>\n",
       "      <th></th>\n",
       "    </tr>\n",
       "  </thead>\n",
       "  <tbody>\n",
       "    <tr>\n",
       "      <th>A</th>\n",
       "      <td>71.83</td>\n",
       "    </tr>\n",
       "    <tr>\n",
       "      <th>D</th>\n",
       "      <td>16.19</td>\n",
       "    </tr>\n",
       "    <tr>\n",
       "      <th>E</th>\n",
       "      <td>5.56</td>\n",
       "    </tr>\n",
       "    <tr>\n",
       "      <th>F</th>\n",
       "      <td>2.44</td>\n",
       "    </tr>\n",
       "    <tr>\n",
       "      <th>G</th>\n",
       "      <td>1.73</td>\n",
       "    </tr>\n",
       "    <tr>\n",
       "      <th>B</th>\n",
       "      <td>0.94</td>\n",
       "    </tr>\n",
       "    <tr>\n",
       "      <th>C</th>\n",
       "      <td>0.81</td>\n",
       "    </tr>\n",
       "    <tr>\n",
       "      <th>H</th>\n",
       "      <td>0.48</td>\n",
       "    </tr>\n",
       "    <tr>\n",
       "      <th>P</th>\n",
       "      <td>0.01</td>\n",
       "    </tr>\n",
       "    <tr>\n",
       "      <th>L</th>\n",
       "      <td>0.00</td>\n",
       "    </tr>\n",
       "  </tbody>\n",
       "</table>\n",
       "</div>"
      ],
      "text/plain": [
       "col_0               Number of Bookings(%)\n",
       "reserved_room_type                       \n",
       "A                                   71.83\n",
       "D                                   16.19\n",
       "E                                    5.56\n",
       "F                                    2.44\n",
       "G                                    1.73\n",
       "B                                    0.94\n",
       "C                                    0.81\n",
       "H                                    0.48\n",
       "P                                    0.01\n",
       "L                                    0.00"
      ]
     },
     "execution_count": 33,
     "metadata": {},
     "output_type": "execute_result"
    }
   ],
   "source": [
    "(pd.crosstab(index=df['reserved_room_type'], columns='Number of Bookings(%)', normalize=True)*100).round(2).sort_values('Number of Bookings(%)', ascending=False).head(10)"
   ]
  },
  {
   "cell_type": "code",
   "execution_count": 34,
   "metadata": {},
   "outputs": [],
   "source": [
    "def segment6(x):\n",
    "    if x == 'A':\n",
    "        return x\n",
    "    elif x == 'D':\n",
    "        return x\n",
    "    else:\n",
    "        return 'Others'"
   ]
  },
  {
   "cell_type": "code",
   "execution_count": 35,
   "metadata": {},
   "outputs": [
    {
     "name": "stdout",
     "output_type": "stream",
     "text": [
      "reserved_room_type\n",
      "A         59997\n",
      "D         13526\n",
      "Others    10004\n",
      "Name: count, dtype: int64\n"
     ]
    },
    {
     "data": {
      "text/plain": [
       "Index(['continent', 'market_segment', 'previous_cancellations',\n",
       "       'booking_changes', 'deposit_type', 'days_in_waiting_list',\n",
       "       'customer_type', 'reserved_room_type', 'required_car_parking_spaces',\n",
       "       'total_of_special_requests', 'is_canceled'],\n",
       "      dtype='object')"
      ]
     },
     "execution_count": 35,
     "metadata": {},
     "output_type": "execute_result"
    }
   ],
   "source": [
    "df_prepa['reserved_room_type'] = df_prepa['reserved_room_type'].apply(segment6)\n",
    "print(df_prepa['reserved_room_type'].value_counts())\n",
    "df_prepa.columns"
   ]
  },
  {
   "cell_type": "markdown",
   "metadata": {},
   "source": [
    "### `previous_cancellations`, `booking_changes`, `total_of_special_requests`, dan `days_in_waiting_list`"
   ]
  },
  {
   "cell_type": "markdown",
   "metadata": {},
   "source": [
    "Keempat kolom ini data tipenya integer, terdapat outlier, dan memiliki kesamaan satuan sehingga dapat dilakukan scaling dengan methode robutscaler."
   ]
  },
  {
   "cell_type": "code",
   "execution_count": 36,
   "metadata": {},
   "outputs": [
    {
     "data": {
      "text/plain": [
       "Index(['continent', 'market_segment', 'previous_cancellations',\n",
       "       'booking_changes', 'deposit_type', 'days_in_waiting_list',\n",
       "       'customer_type', 'reserved_room_type', 'required_car_parking_spaces',\n",
       "       'total_of_special_requests', 'is_canceled'],\n",
       "      dtype='object')"
      ]
     },
     "execution_count": 36,
     "metadata": {},
     "output_type": "execute_result"
    }
   ],
   "source": [
    "df_prepa2 = df_prepa.copy()\n",
    "\n",
    "scaler = RobustScaler()                                                             # Inisialisasi RobustScaler\n",
    "\n",
    "# Pilih kolom yang ingin di-scaling\n",
    "cols = ['previous_cancellations','booking_changes','total_of_special_requests','days_in_waiting_list']   # Ganti dengan nama kolom sesuai dataset\n",
    "\n",
    "df_prepa[cols] = scaler.fit_transform(df_prepa[cols])                                 # Lakukan scaling pada kolom tersebut\n",
    "\n",
    "df_prepa.columns"
   ]
  },
  {
   "cell_type": "markdown",
   "metadata": {},
   "source": [
    "## Encoding"
   ]
  },
  {
   "cell_type": "code",
   "execution_count": 37,
   "metadata": {},
   "outputs": [
    {
     "data": {
      "text/plain": [
       "Index(['previous_cancellations', 'booking_changes', 'days_in_waiting_list',\n",
       "       'total_of_special_requests', 'is_canceled', 'continent_Asia',\n",
       "       'continent_Europe', 'continent_North America', 'continent_Others',\n",
       "       'continent_South America', 'market_segment_Groups',\n",
       "       'market_segment_Offline TA/TO', 'market_segment_Online TA',\n",
       "       'market_segment_Others', 'deposit_type_No Deposit',\n",
       "       'deposit_type_Non Refund', 'deposit_type_Refundable',\n",
       "       'customer_type_Contract', 'customer_type_Others',\n",
       "       'customer_type_Transient', 'customer_type_Transient-Party',\n",
       "       'reserved_room_type_A', 'reserved_room_type_D',\n",
       "       'reserved_room_type_Others', 'required_car_parking_spaces_1',\n",
       "       'required_car_parking_spaces_2', 'required_car_parking_spaces_3',\n",
       "       'required_car_parking_spaces_Others'],\n",
       "      dtype='object')"
      ]
     },
     "execution_count": 37,
     "metadata": {},
     "output_type": "execute_result"
    }
   ],
   "source": [
    "# Perbedaan perlakukan pada kolom numerik, df_enc diberi perlakukan robust scaling sedangkan df_enc2 mempertahankan aslinya\n",
    "df_enc = pd.get_dummies(df_prepa, columns=['continent','market_segment','deposit_type','customer_type','reserved_room_type','required_car_parking_spaces'], dtype=int)\n",
    "df_enc2 = pd.get_dummies(df_prepa2, columns=['continent','market_segment','deposit_type','customer_type','reserved_room_type','required_car_parking_spaces'], dtype=int)\n",
    "df_enc.columns"
   ]
  },
  {
   "cell_type": "markdown",
   "metadata": {},
   "source": [
    "### **Interpretasi Berdasarkan Domain Knowledge**"
   ]
  },
  {
   "cell_type": "markdown",
   "metadata": {},
   "source": [
    "1. Market Segment : Secara garis besar pelanggan yang memesan secara online lebih nyaman untuk membatalkan dan memesan ulang daripada pelanggan yang langsung datang ke hotel atau melalui kantor travel agent.\n",
    "1. Deposit Type : pemesanan yang dilakukan dimana deposit dapat dikembalikan jika pemesanan dibatalkan, biasanya memiliki kecenderungan yang lebih tinggi untuk membatalkan pemesanan daripada pemesanan yang dilakukan dengan persyaratan deposit tidak dikembalikan.\n",
    "1. Customer Type : pelanggan yang melakukan pemesanan untuk grup akan memiliki kecenderungan yang jauh lebih rendah untuk membatalkan pemesanan mereka karena perencanaan perjalanan untuk pelanggan yang bepergian dalam grup harus lebih pasti daripada tur individu.\n",
    "1. Room Type : pelanggan yang memesan kamar lebih murah seharusnya memiliki kecenderungan yang lebih tinggi untuk membatalkan karena pelanggan di level ini akan mencari harga serendah mungkin, jadi jika ada potongan harga untuk kamar lain, mereka akan membatalkan pemesanan sebelumnya dan akan memesan kamar dengan harga yang sudah di diskon oleh pihak hotel."
   ]
  },
  {
   "cell_type": "code",
   "execution_count": 38,
   "metadata": {},
   "outputs": [
    {
     "data": {
      "text/plain": [
       "Index(['previous_cancellations', 'booking_changes', 'days_in_waiting_list',\n",
       "       'total_of_special_requests', 'is_canceled', 'continent_Asia',\n",
       "       'continent_Europe', 'continent_North America', 'continent_Others',\n",
       "       'continent_South America', 'market_segment_Groups',\n",
       "       'market_segment_Offline TA/TO', 'market_segment_Online TA',\n",
       "       'market_segment_Others', 'deposit_type_No Deposit',\n",
       "       'deposit_type_Non Refund', 'deposit_type_Refundable',\n",
       "       'customer_type_Contract', 'customer_type_Others',\n",
       "       'customer_type_Transient', 'customer_type_Transient-Party',\n",
       "       'reserved_room_type_A', 'reserved_room_type_D',\n",
       "       'reserved_room_type_Others', 'required_car_parking_spaces_1',\n",
       "       'required_car_parking_spaces_2', 'required_car_parking_spaces_3',\n",
       "       'required_car_parking_spaces_Others'],\n",
       "      dtype='object')"
      ]
     },
     "execution_count": 38,
     "metadata": {},
     "output_type": "execute_result"
    }
   ],
   "source": [
    "df_enc.columns"
   ]
  },
  {
   "cell_type": "code",
   "execution_count": 39,
   "metadata": {},
   "outputs": [
    {
     "data": {
      "text/plain": [
       "Index(['market_segment', 'previous_cancellations', 'booking_changes',\n",
       "       'deposit_type', 'customer_type', 'reserved_room_type',\n",
       "       'required_car_parking_spaces', 'total_of_special_requests',\n",
       "       'is_canceled'],\n",
       "      dtype='object')"
      ]
     },
     "execution_count": 39,
     "metadata": {},
     "output_type": "execute_result"
    }
   ],
   "source": [
    "# Menghapus fitur days_in_waiting_list\n",
    "features_improve = ['market_segment', 'previous_cancellations','booking_changes', 'deposit_type','customer_type', 'reserved_room_type', 'required_car_parking_spaces',\n",
    "                    'total_of_special_requests', 'is_canceled']\n",
    "df_prepa3 = df_prepa.copy()\n",
    "df_prepa3 = df_prepa3[features_improve]\n",
    "\n",
    "# Mengembalikan kolom reserved_room_type seperti semua sebelum dilakukan ordinal encoding\n",
    "df_prepa3['reserved_room_type'] = df['reserved_room_type']\n",
    "\n",
    "df_prepa3.columns"
   ]
  },
  {
   "cell_type": "code",
   "execution_count": 40,
   "metadata": {},
   "outputs": [
    {
     "data": {
      "text/plain": [
       "required_car_parking_spaces\n",
       "Others    78302\n",
       "1          5202\n",
       "2            22\n",
       "3             1\n",
       "Name: count, dtype: int64"
      ]
     },
     "execution_count": 40,
     "metadata": {},
     "output_type": "execute_result"
    }
   ],
   "source": [
    "df_prepa3['required_car_parking_spaces'].value_counts()"
   ]
  },
  {
   "cell_type": "code",
   "execution_count": 41,
   "metadata": {},
   "outputs": [
    {
     "data": {
      "text/plain": [
       "reserved_room_type\n",
       "A    59997\n",
       "D    13526\n",
       "E     4647\n",
       "F     2037\n",
       "G     1447\n",
       "B      787\n",
       "C      673\n",
       "H      401\n",
       "P        9\n",
       "L        3\n",
       "Name: count, dtype: int64"
      ]
     },
     "execution_count": 41,
     "metadata": {},
     "output_type": "execute_result"
    }
   ],
   "source": [
    "df['reserved_room_type'].value_counts()"
   ]
  },
  {
   "cell_type": "markdown",
   "metadata": {},
   "source": [
    "### Penanganan setelah mengetahui bahwa fitur `reserved_room_type_A`,`reserved_room_type_D`,`required_car_parking_spaces_2`,`required_car_parking_spaces_3`, dan `days_in_waiting_list` tidak berdampak terhadap ML model terbaik logistic regression (recall 82%)"
   ]
  },
  {
   "cell_type": "code",
   "execution_count": 42,
   "metadata": {},
   "outputs": [],
   "source": [
    "# Menerapkan ordinal encoding kolom reserved room dan required car parking agar menjadi 2 fitur (penyederhanaan)\n",
    "# Mengurutkan dari yang paling sedikit proporsi atau jumlahnya\n",
    "\n",
    "reserved_room_type = {'L': 0, 'P': 1, 'H': 2, 'C': 3, 'B': 4, 'G': 5, 'F': 6, 'E': 7, 'D': 8, 'A': 9}\n",
    "car_spaces = {'Others': 0, 1: 1, 2: 2, 3: 3}\n",
    "\n",
    "# Menggunakan mapping untuk mengonversi tipe ruangan dan jumlag tempat parkir menjadi nilai ordinal\n",
    "df_prepa3['reserved_room_type'] = df_prepa3['reserved_room_type'].map(reserved_room_type)\n",
    "df_prepa3['required_car_parking_spaces'] = df_prepa3['required_car_parking_spaces'].map(car_spaces)"
   ]
  },
  {
   "cell_type": "code",
   "execution_count": 43,
   "metadata": {},
   "outputs": [
    {
     "data": {
      "text/plain": [
       "Index(['market_segment', 'previous_cancellations', 'booking_changes',\n",
       "       'deposit_type', 'customer_type', 'reserved_room_type',\n",
       "       'required_car_parking_spaces', 'total_of_special_requests',\n",
       "       'is_canceled'],\n",
       "      dtype='object')"
      ]
     },
     "execution_count": 43,
     "metadata": {},
     "output_type": "execute_result"
    }
   ],
   "source": [
    "df_prepa3.columns"
   ]
  },
  {
   "cell_type": "code",
   "execution_count": 44,
   "metadata": {},
   "outputs": [
    {
     "data": {
      "text/plain": [
       "Index(['previous_cancellations', 'booking_changes', 'reserved_room_type',\n",
       "       'required_car_parking_spaces', 'total_of_special_requests',\n",
       "       'is_canceled', 'market_segment_Groups', 'market_segment_Offline TA/TO',\n",
       "       'market_segment_Online TA', 'market_segment_Others',\n",
       "       'deposit_type_No Deposit', 'deposit_type_Non Refund',\n",
       "       'deposit_type_Refundable', 'customer_type_Contract',\n",
       "       'customer_type_Others', 'customer_type_Transient',\n",
       "       'customer_type_Transient-Party'],\n",
       "      dtype='object')"
      ]
     },
     "execution_count": 44,
     "metadata": {},
     "output_type": "execute_result"
    }
   ],
   "source": [
    "# Encoding fitur improvement\n",
    "df_enc3 = pd.get_dummies(df_prepa3, columns=['market_segment','deposit_type','customer_type'], dtype=int)\n",
    "df_enc3.columns"
   ]
  },
  {
   "cell_type": "markdown",
   "metadata": {},
   "source": [
    "## **FEATURE SELECTION**"
   ]
  },
  {
   "cell_type": "markdown",
   "metadata": {},
   "source": [
    "### **Multicollinearity Checking**"
   ]
  },
  {
   "cell_type": "code",
   "execution_count": 45,
   "metadata": {},
   "outputs": [],
   "source": [
    "# Function to calculate VIF\n",
    "def calc_vif(x):\n",
    "\n",
    "    vif = pd.DataFrame()\n",
    "    vif['variables'] = x.columns\n",
    "    vif['VIF'] = [variance_inflation_factor(x.values, i) for i in range(x.shape[1])]\n",
    "    vif['Acceptable'] = np.where(vif.VIF < 4, 'Yes', 'No')\n",
    "\n",
    "    return (vif)"
   ]
  },
  {
   "cell_type": "code",
   "execution_count": 46,
   "metadata": {},
   "outputs": [
    {
     "data": {
      "text/plain": [
       "Index(['previous_cancellations', 'booking_changes', 'days_in_waiting_list',\n",
       "       'total_of_special_requests', 'is_canceled', 'continent_Asia',\n",
       "       'continent_Europe', 'continent_North America', 'continent_Others',\n",
       "       'continent_South America', 'market_segment_Groups',\n",
       "       'market_segment_Offline TA/TO', 'market_segment_Online TA',\n",
       "       'market_segment_Others', 'deposit_type_No Deposit',\n",
       "       'deposit_type_Non Refund', 'deposit_type_Refundable',\n",
       "       'customer_type_Contract', 'customer_type_Others',\n",
       "       'customer_type_Transient', 'customer_type_Transient-Party',\n",
       "       'reserved_room_type_A', 'reserved_room_type_D',\n",
       "       'reserved_room_type_Others', 'required_car_parking_spaces_1',\n",
       "       'required_car_parking_spaces_2', 'required_car_parking_spaces_3',\n",
       "       'required_car_parking_spaces_Others'],\n",
       "      dtype='object')"
      ]
     },
     "execution_count": 46,
     "metadata": {},
     "output_type": "execute_result"
    }
   ],
   "source": [
    "df_enc.columns"
   ]
  },
  {
   "cell_type": "code",
   "execution_count": 47,
   "metadata": {},
   "outputs": [
    {
     "data": {
      "text/plain": [
       "Index(['previous_cancellations', 'booking_changes', 'reserved_room_type',\n",
       "       'required_car_parking_spaces', 'total_of_special_requests',\n",
       "       'is_canceled', 'market_segment_Groups', 'market_segment_Offline TA/TO',\n",
       "       'market_segment_Online TA', 'market_segment_Others',\n",
       "       'deposit_type_No Deposit', 'deposit_type_Non Refund',\n",
       "       'deposit_type_Refundable', 'customer_type_Contract',\n",
       "       'customer_type_Others', 'customer_type_Transient',\n",
       "       'customer_type_Transient-Party'],\n",
       "      dtype='object')"
      ]
     },
     "execution_count": 47,
     "metadata": {},
     "output_type": "execute_result"
    }
   ],
   "source": [
    "df_enc3.columns"
   ]
  },
  {
   "cell_type": "code",
   "execution_count": 48,
   "metadata": {},
   "outputs": [],
   "source": [
    "target = 'is_canceled'\n",
    "\n",
    "# Kondisi digunakan fitur semua hasil encoding\n",
    "featuresA = ['previous_cancellations','booking_changes','reserved_room_type','required_car_parking_spaces',\n",
    "             'total_of_special_requests','market_segment_Groups','market_segment_Offline TA/TO',\n",
    "             'market_segment_Online TA','market_segment_Others','deposit_type_No Deposit','deposit_type_Non Refund',\n",
    "             'deposit_type_Refundable','customer_type_Contract','customer_type_Others','customer_type_Transient',\n",
    "             'customer_type_Transient-Party']\n",
    "# Menghapus kategori others\n",
    "featuresB = ['previous_cancellations','booking_changes','reserved_room_type','required_car_parking_spaces',\n",
    "             'total_of_special_requests','market_segment_Groups','market_segment_Offline TA/TO',\n",
    "             'market_segment_Online TA','deposit_type_No Deposit','deposit_type_Non Refund','deposit_type_Refundable',\n",
    "             'customer_type_Contract','customer_type_Transient','customer_type_Transient-Party']\n",
    "# Menghapus fitur deposit_type_No Deposit dan customer_type_Transient\n",
    "featuresC = ['previous_cancellations','booking_changes','reserved_room_type','required_car_parking_spaces',\n",
    "             'total_of_special_requests','market_segment_Groups','market_segment_Offline TA/TO',\n",
    "             'market_segment_Online TA','deposit_type_Non Refund','deposit_type_Refundable',\n",
    "             'customer_type_Contract','customer_type_Transient-Party']\n",
    "# Menghapus fitur required_car_parking_spaces dan deposit_type_Refundable\n",
    "featuresD = ['previous_cancellations','booking_changes','reserved_room_type','total_of_special_requests',\n",
    "             'market_segment_Groups','market_segment_Offline TA/TO','market_segment_Online TA',\n",
    "             'deposit_type_Non Refund','customer_type_Contract','customer_type_Transient-Party']\n",
    "\n"
   ]
  },
  {
   "cell_type": "code",
   "execution_count": 49,
   "metadata": {},
   "outputs": [],
   "source": [
    "# Kondisi digunakan fitur semua hasil encoding\n",
    "features_init = ['previous_cancellations','booking_changes','days_in_waiting_list','total_of_special_requests', 'is_canceled', 'continent_Asia',\n",
    "                 'continent_Europe','continent_North America','continent_Others','continent_South America', 'market_segment_Groups',\n",
    "                 'market_segment_Offline TA/TO','market_segment_Online TA','market_segment_Others',\n",
    "                 'deposit_type_No Deposit','deposit_type_Non Refund','deposit_type_Refundable',\n",
    "                 'customer_type_Contract','customer_type_Others','customer_type_Transient',\n",
    "                 'customer_type_Transient-Party','reserved_room_type_A','reserved_room_type_D',\n",
    "                 'reserved_room_type_Others','required_car_parking_spaces_1','required_car_parking_spaces_2',\n",
    "                 'required_car_parking_spaces_3','required_car_parking_spaces_Others']"
   ]
  },
  {
   "cell_type": "code",
   "execution_count": 50,
   "metadata": {},
   "outputs": [
    {
     "data": {
      "text/plain": [
       "28"
      ]
     },
     "execution_count": 50,
     "metadata": {},
     "output_type": "execute_result"
    }
   ],
   "source": [
    "df_trial1 = df_enc.copy()\n",
    "df_trial1.shape[1]"
   ]
  },
  {
   "cell_type": "markdown",
   "metadata": {},
   "source": [
    "### Trial 1"
   ]
  },
  {
   "cell_type": "code",
   "execution_count": 51,
   "metadata": {},
   "outputs": [
    {
     "data": {
      "text/html": [
       "<div>\n",
       "<style scoped>\n",
       "    .dataframe tbody tr th:only-of-type {\n",
       "        vertical-align: middle;\n",
       "    }\n",
       "\n",
       "    .dataframe tbody tr th {\n",
       "        vertical-align: top;\n",
       "    }\n",
       "\n",
       "    .dataframe thead th {\n",
       "        text-align: right;\n",
       "    }\n",
       "</style>\n",
       "<table border=\"1\" class=\"dataframe\">\n",
       "  <thead>\n",
       "    <tr style=\"text-align: right;\">\n",
       "      <th></th>\n",
       "      <th>variables</th>\n",
       "      <th>VIF</th>\n",
       "      <th>Acceptable</th>\n",
       "    </tr>\n",
       "  </thead>\n",
       "  <tbody>\n",
       "    <tr>\n",
       "      <th>0</th>\n",
       "      <td>previous_cancellations</td>\n",
       "      <td>1.027554e+00</td>\n",
       "      <td>Yes</td>\n",
       "    </tr>\n",
       "    <tr>\n",
       "      <th>1</th>\n",
       "      <td>booking_changes</td>\n",
       "      <td>1.046675e+00</td>\n",
       "      <td>Yes</td>\n",
       "    </tr>\n",
       "    <tr>\n",
       "      <th>2</th>\n",
       "      <td>days_in_waiting_list</td>\n",
       "      <td>1.048987e+00</td>\n",
       "      <td>Yes</td>\n",
       "    </tr>\n",
       "    <tr>\n",
       "      <th>3</th>\n",
       "      <td>total_of_special_requests</td>\n",
       "      <td>1.284874e+00</td>\n",
       "      <td>Yes</td>\n",
       "    </tr>\n",
       "    <tr>\n",
       "      <th>4</th>\n",
       "      <td>is_canceled</td>\n",
       "      <td>1.477320e+00</td>\n",
       "      <td>Yes</td>\n",
       "    </tr>\n",
       "    <tr>\n",
       "      <th>5</th>\n",
       "      <td>continent_Asia</td>\n",
       "      <td>3.835155e+08</td>\n",
       "      <td>No</td>\n",
       "    </tr>\n",
       "    <tr>\n",
       "      <th>6</th>\n",
       "      <td>continent_Europe</td>\n",
       "      <td>1.808919e+06</td>\n",
       "      <td>No</td>\n",
       "    </tr>\n",
       "    <tr>\n",
       "      <th>7</th>\n",
       "      <td>continent_North America</td>\n",
       "      <td>inf</td>\n",
       "      <td>No</td>\n",
       "    </tr>\n",
       "    <tr>\n",
       "      <th>8</th>\n",
       "      <td>continent_Others</td>\n",
       "      <td>inf</td>\n",
       "      <td>No</td>\n",
       "    </tr>\n",
       "    <tr>\n",
       "      <th>9</th>\n",
       "      <td>continent_South America</td>\n",
       "      <td>2.753821e+11</td>\n",
       "      <td>No</td>\n",
       "    </tr>\n",
       "    <tr>\n",
       "      <th>10</th>\n",
       "      <td>market_segment_Groups</td>\n",
       "      <td>8.342181e+06</td>\n",
       "      <td>No</td>\n",
       "    </tr>\n",
       "    <tr>\n",
       "      <th>11</th>\n",
       "      <td>market_segment_Offline TA/TO</td>\n",
       "      <td>2.053972e+09</td>\n",
       "      <td>No</td>\n",
       "    </tr>\n",
       "    <tr>\n",
       "      <th>12</th>\n",
       "      <td>market_segment_Online TA</td>\n",
       "      <td>5.586976e+09</td>\n",
       "      <td>No</td>\n",
       "    </tr>\n",
       "    <tr>\n",
       "      <th>13</th>\n",
       "      <td>market_segment_Others</td>\n",
       "      <td>4.493974e+08</td>\n",
       "      <td>No</td>\n",
       "    </tr>\n",
       "    <tr>\n",
       "      <th>14</th>\n",
       "      <td>deposit_type_No Deposit</td>\n",
       "      <td>3.691693e+05</td>\n",
       "      <td>No</td>\n",
       "    </tr>\n",
       "    <tr>\n",
       "      <th>15</th>\n",
       "      <td>deposit_type_Non Refund</td>\n",
       "      <td>4.656194e+06</td>\n",
       "      <td>No</td>\n",
       "    </tr>\n",
       "    <tr>\n",
       "      <th>16</th>\n",
       "      <td>deposit_type_Refundable</td>\n",
       "      <td>5.848831e+13</td>\n",
       "      <td>No</td>\n",
       "    </tr>\n",
       "    <tr>\n",
       "      <th>17</th>\n",
       "      <td>customer_type_Contract</td>\n",
       "      <td>3.414003e+10</td>\n",
       "      <td>No</td>\n",
       "    </tr>\n",
       "    <tr>\n",
       "      <th>18</th>\n",
       "      <td>customer_type_Others</td>\n",
       "      <td>4.086751e+12</td>\n",
       "      <td>No</td>\n",
       "    </tr>\n",
       "    <tr>\n",
       "      <th>19</th>\n",
       "      <td>customer_type_Transient</td>\n",
       "      <td>3.219836e+06</td>\n",
       "      <td>No</td>\n",
       "    </tr>\n",
       "    <tr>\n",
       "      <th>20</th>\n",
       "      <td>customer_type_Transient-Party</td>\n",
       "      <td>3.712386e+08</td>\n",
       "      <td>No</td>\n",
       "    </tr>\n",
       "    <tr>\n",
       "      <th>21</th>\n",
       "      <td>reserved_room_type_A</td>\n",
       "      <td>2.465893e+06</td>\n",
       "      <td>No</td>\n",
       "    </tr>\n",
       "    <tr>\n",
       "      <th>22</th>\n",
       "      <td>reserved_room_type_D</td>\n",
       "      <td>1.977845e+09</td>\n",
       "      <td>No</td>\n",
       "    </tr>\n",
       "    <tr>\n",
       "      <th>23</th>\n",
       "      <td>reserved_room_type_Others</td>\n",
       "      <td>4.570187e+10</td>\n",
       "      <td>No</td>\n",
       "    </tr>\n",
       "    <tr>\n",
       "      <th>24</th>\n",
       "      <td>required_car_parking_spaces_1</td>\n",
       "      <td>1.321037e+10</td>\n",
       "      <td>No</td>\n",
       "    </tr>\n",
       "    <tr>\n",
       "      <th>25</th>\n",
       "      <td>required_car_parking_spaces_2</td>\n",
       "      <td>1.154769e+14</td>\n",
       "      <td>No</td>\n",
       "    </tr>\n",
       "    <tr>\n",
       "      <th>26</th>\n",
       "      <td>required_car_parking_spaces_3</td>\n",
       "      <td>inf</td>\n",
       "      <td>No</td>\n",
       "    </tr>\n",
       "    <tr>\n",
       "      <th>27</th>\n",
       "      <td>required_car_parking_spaces_Others</td>\n",
       "      <td>7.620410e+05</td>\n",
       "      <td>No</td>\n",
       "    </tr>\n",
       "  </tbody>\n",
       "</table>\n",
       "</div>"
      ],
      "text/plain": [
       "                             variables           VIF Acceptable\n",
       "0               previous_cancellations  1.027554e+00        Yes\n",
       "1                      booking_changes  1.046675e+00        Yes\n",
       "2                 days_in_waiting_list  1.048987e+00        Yes\n",
       "3            total_of_special_requests  1.284874e+00        Yes\n",
       "4                          is_canceled  1.477320e+00        Yes\n",
       "5                       continent_Asia  3.835155e+08         No\n",
       "6                     continent_Europe  1.808919e+06         No\n",
       "7              continent_North America           inf         No\n",
       "8                     continent_Others           inf         No\n",
       "9              continent_South America  2.753821e+11         No\n",
       "10               market_segment_Groups  8.342181e+06         No\n",
       "11        market_segment_Offline TA/TO  2.053972e+09         No\n",
       "12            market_segment_Online TA  5.586976e+09         No\n",
       "13               market_segment_Others  4.493974e+08         No\n",
       "14             deposit_type_No Deposit  3.691693e+05         No\n",
       "15             deposit_type_Non Refund  4.656194e+06         No\n",
       "16             deposit_type_Refundable  5.848831e+13         No\n",
       "17              customer_type_Contract  3.414003e+10         No\n",
       "18                customer_type_Others  4.086751e+12         No\n",
       "19             customer_type_Transient  3.219836e+06         No\n",
       "20       customer_type_Transient-Party  3.712386e+08         No\n",
       "21                reserved_room_type_A  2.465893e+06         No\n",
       "22                reserved_room_type_D  1.977845e+09         No\n",
       "23           reserved_room_type_Others  4.570187e+10         No\n",
       "24       required_car_parking_spaces_1  1.321037e+10         No\n",
       "25       required_car_parking_spaces_2  1.154769e+14         No\n",
       "26       required_car_parking_spaces_3           inf         No\n",
       "27  required_car_parking_spaces_Others  7.620410e+05         No"
      ]
     },
     "execution_count": 51,
     "metadata": {},
     "output_type": "execute_result"
    }
   ],
   "source": [
    "calc_vif(df_enc[features_init])"
   ]
  },
  {
   "cell_type": "code",
   "execution_count": 52,
   "metadata": {},
   "outputs": [
    {
     "name": "stdout",
     "output_type": "stream",
     "text": [
      "Warning: Maximum number of iterations has been exceeded.\n",
      "         Current function value: 0.000009\n",
      "         Iterations: 35\n",
      "[0.0, 0.83, 1.19, 1.02, 0.94]\n",
      "Warning: Maximum number of iterations has been exceeded.\n",
      "         Current function value: 0.000009\n",
      "         Iterations: 35\n",
      "                           Logit Regression Results                           \n",
      "==============================================================================\n",
      "Dep. Variable:            is_canceled   No. Observations:                83527\n",
      "Model:                          Logit   Df Residuals:                    83499\n",
      "Method:                           MLE   Df Model:                           27\n",
      "Date:                Thu, 01 Feb 2024   Pseudo R-squ.:                   1.000\n",
      "Time:                        19:43:39   Log-Likelihood:               -0.71372\n",
      "converged:                      False   LL-Null:                       -54952.\n",
      "Covariance Type:            nonrobust   LLR p-value:                     0.000\n",
      "======================================================================================================\n",
      "                                         coef    std err          z      P>|z|      [0.025      0.975]\n",
      "------------------------------------------------------------------------------------------------------\n",
      "const                                 -8.1338    2.2e+07   -3.7e-07      1.000   -4.31e+07    4.31e+07\n",
      "previous_cancellations                -0.1861      4.801     -0.039      0.969      -9.596       9.224\n",
      "booking_changes                        0.1705      2.201      0.077      0.938      -4.143       4.484\n",
      "days_in_waiting_list                   0.0203      0.471      0.043      0.966      -0.903       0.944\n",
      "total_of_special_requests             -0.0669      1.584     -0.042      0.966      -3.172       3.038\n",
      "is_canceled                           40.1539     59.757      0.672      0.502     -76.968     157.275\n",
      "continent_Asia                        -8.7548   2.34e+07  -3.74e-07      1.000   -4.59e+07    4.59e+07\n",
      "continent_Europe                       2.2729   2.34e+07    9.7e-08      1.000   -4.59e+07    4.59e+07\n",
      "continent_North America               -3.7627   2.34e+07  -1.61e-07      1.000   -4.59e+07    4.59e+07\n",
      "continent_Others                       0.1577   2.34e+07   6.73e-09      1.000   -4.59e+07    4.59e+07\n",
      "continent_South America                1.9531   2.34e+07   8.34e-08      1.000   -4.59e+07    4.59e+07\n",
      "market_segment_Groups                 -5.1305        nan        nan        nan         nan         nan\n",
      "market_segment_Offline TA/TO          -4.3941        nan        nan        nan         nan         nan\n",
      "market_segment_Online TA              -2.2161        nan        nan        nan         nan         nan\n",
      "market_segment_Others                  3.6068        nan        nan        nan         nan         nan\n",
      "deposit_type_No Deposit               -3.1703        nan        nan        nan         nan         nan\n",
      "deposit_type_Non Refund               -0.4303        nan        nan        nan         nan         nan\n",
      "deposit_type_Refundable               -4.5332        nan        nan        nan         nan         nan\n",
      "customer_type_Contract                 2.1925        nan        nan        nan         nan         nan\n",
      "customer_type_Others                  -2.5318        nan        nan        nan         nan         nan\n",
      "customer_type_Transient               -6.0874        nan        nan        nan         nan         nan\n",
      "customer_type_Transient-Party         -1.7071        nan        nan        nan         nan         nan\n",
      "reserved_room_type_A                  -3.5493        nan        nan        nan         nan         nan\n",
      "reserved_room_type_D                  -1.1917        nan        nan        nan         nan         nan\n",
      "reserved_room_type_Others             -3.3928        nan        nan        nan         nan         nan\n",
      "required_car_parking_spaces_1         -5.0899        nan        nan        nan         nan         nan\n",
      "required_car_parking_spaces_2         -0.7811        nan        nan        nan         nan         nan\n",
      "required_car_parking_spaces_3         -0.9906        nan        nan        nan         nan         nan\n",
      "required_car_parking_spaces_Others    -1.2722        nan        nan        nan         nan         nan\n",
      "======================================================================================================\n",
      "\n",
      "Possibly complete quasi-separation: A fraction 0.99 of observations can be\n",
      "perfectly predicted. This might indicate that there is complete\n",
      "quasi-separation. In this case some parameters will not be identified.\n"
     ]
    }
   ],
   "source": [
    "X_sm = sm.add_constant(df_enc[features_init])\n",
    "\n",
    "clf_logit = sm.Logit(df_enc[target], X_sm.astype(float))\n",
    "\n",
    "odds_ratio = [round(x,2) for x in np.exp(clf_logit.fit().params.values)]\n",
    "\n",
    "print(odds_ratio[:5])\n",
    "print(clf_logit.fit().summary())"
   ]
  },
  {
   "cell_type": "markdown",
   "metadata": {},
   "source": [
    "Pengaplikasian semua fitur, memberikan informasi bahwa fitur - fitur ini mampu menjelaskan 31.19% (Pseudo R-square) dari total keseluruhan data, sedangkan 67.2% lainnya dijelaskan oleh fitur-fitur diluar model ini. "
   ]
  },
  {
   "cell_type": "markdown",
   "metadata": {},
   "source": [
    "### Trial 2"
   ]
  },
  {
   "cell_type": "markdown",
   "metadata": {},
   "source": [
    "### Feature Selection Process"
   ]
  },
  {
   "cell_type": "markdown",
   "metadata": {},
   "source": [
    "Memisahkan data menjadi train dan validasi untuk melatih data pada train dataset terkait pembobotan atau signifikansi dari feature yang akan dimasukkan kedalam machine learning."
   ]
  },
  {
   "cell_type": "code",
   "execution_count": 53,
   "metadata": {},
   "outputs": [],
   "source": [
    "# Data dipisahkan berdasarkan target\n",
    "\n",
    "# Pemisahan data prepocessing setelah dilakukan get_dummies (feature engineering)\n",
    "X = df_trial1.drop(columns=['is_canceled'])\n",
    "y = df_trial1['is_canceled']\n",
    "\n",
    "X_train_val, X_test, y_train_val, y_test = train_test_split(\n",
    "    X,\n",
    "    y,\n",
    "    stratify = y,\n",
    "    test_size = 0.2,\n",
    "    random_state = 10)"
   ]
  },
  {
   "cell_type": "code",
   "execution_count": 54,
   "metadata": {},
   "outputs": [
    {
     "data": {
      "text/plain": [
       "Index(['previous_cancellations', 'booking_changes', 'days_in_waiting_list',\n",
       "       'total_of_special_requests', 'continent_Asia', 'continent_Europe',\n",
       "       'continent_North America', 'continent_Others',\n",
       "       'continent_South America', 'market_segment_Groups',\n",
       "       'market_segment_Offline TA/TO', 'market_segment_Online TA',\n",
       "       'market_segment_Others', 'deposit_type_No Deposit',\n",
       "       'deposit_type_Non Refund', 'deposit_type_Refundable',\n",
       "       'customer_type_Contract', 'customer_type_Others',\n",
       "       'customer_type_Transient', 'customer_type_Transient-Party',\n",
       "       'reserved_room_type_A', 'reserved_room_type_D',\n",
       "       'reserved_room_type_Others', 'required_car_parking_spaces_1',\n",
       "       'required_car_parking_spaces_2', 'required_car_parking_spaces_3',\n",
       "       'required_car_parking_spaces_Others'],\n",
       "      dtype='object')"
      ]
     },
     "execution_count": 54,
     "metadata": {},
     "output_type": "execute_result"
    }
   ],
   "source": [
    "features = X_train_val.columns\n",
    "features"
   ]
  },
  {
   "cell_type": "code",
   "execution_count": 55,
   "metadata": {},
   "outputs": [
    {
     "data": {
      "text/html": [
       "<style>#sk-container-id-1 {color: black;}#sk-container-id-1 pre{padding: 0;}#sk-container-id-1 div.sk-toggleable {background-color: white;}#sk-container-id-1 label.sk-toggleable__label {cursor: pointer;display: block;width: 100%;margin-bottom: 0;padding: 0.3em;box-sizing: border-box;text-align: center;}#sk-container-id-1 label.sk-toggleable__label-arrow:before {content: \"▸\";float: left;margin-right: 0.25em;color: #696969;}#sk-container-id-1 label.sk-toggleable__label-arrow:hover:before {color: black;}#sk-container-id-1 div.sk-estimator:hover label.sk-toggleable__label-arrow:before {color: black;}#sk-container-id-1 div.sk-toggleable__content {max-height: 0;max-width: 0;overflow: hidden;text-align: left;background-color: #f0f8ff;}#sk-container-id-1 div.sk-toggleable__content pre {margin: 0.2em;color: black;border-radius: 0.25em;background-color: #f0f8ff;}#sk-container-id-1 input.sk-toggleable__control:checked~div.sk-toggleable__content {max-height: 200px;max-width: 100%;overflow: auto;}#sk-container-id-1 input.sk-toggleable__control:checked~label.sk-toggleable__label-arrow:before {content: \"▾\";}#sk-container-id-1 div.sk-estimator input.sk-toggleable__control:checked~label.sk-toggleable__label {background-color: #d4ebff;}#sk-container-id-1 div.sk-label input.sk-toggleable__control:checked~label.sk-toggleable__label {background-color: #d4ebff;}#sk-container-id-1 input.sk-hidden--visually {border: 0;clip: rect(1px 1px 1px 1px);clip: rect(1px, 1px, 1px, 1px);height: 1px;margin: -1px;overflow: hidden;padding: 0;position: absolute;width: 1px;}#sk-container-id-1 div.sk-estimator {font-family: monospace;background-color: #f0f8ff;border: 1px dotted black;border-radius: 0.25em;box-sizing: border-box;margin-bottom: 0.5em;}#sk-container-id-1 div.sk-estimator:hover {background-color: #d4ebff;}#sk-container-id-1 div.sk-parallel-item::after {content: \"\";width: 100%;border-bottom: 1px solid gray;flex-grow: 1;}#sk-container-id-1 div.sk-label:hover label.sk-toggleable__label {background-color: #d4ebff;}#sk-container-id-1 div.sk-serial::before {content: \"\";position: absolute;border-left: 1px solid gray;box-sizing: border-box;top: 0;bottom: 0;left: 50%;z-index: 0;}#sk-container-id-1 div.sk-serial {display: flex;flex-direction: column;align-items: center;background-color: white;padding-right: 0.2em;padding-left: 0.2em;position: relative;}#sk-container-id-1 div.sk-item {position: relative;z-index: 1;}#sk-container-id-1 div.sk-parallel {display: flex;align-items: stretch;justify-content: center;background-color: white;position: relative;}#sk-container-id-1 div.sk-item::before, #sk-container-id-1 div.sk-parallel-item::before {content: \"\";position: absolute;border-left: 1px solid gray;box-sizing: border-box;top: 0;bottom: 0;left: 50%;z-index: -1;}#sk-container-id-1 div.sk-parallel-item {display: flex;flex-direction: column;z-index: 1;position: relative;background-color: white;}#sk-container-id-1 div.sk-parallel-item:first-child::after {align-self: flex-end;width: 50%;}#sk-container-id-1 div.sk-parallel-item:last-child::after {align-self: flex-start;width: 50%;}#sk-container-id-1 div.sk-parallel-item:only-child::after {width: 0;}#sk-container-id-1 div.sk-dashed-wrapped {border: 1px dashed gray;margin: 0 0.4em 0.5em 0.4em;box-sizing: border-box;padding-bottom: 0.4em;background-color: white;}#sk-container-id-1 div.sk-label label {font-family: monospace;font-weight: bold;display: inline-block;line-height: 1.2em;}#sk-container-id-1 div.sk-label-container {text-align: center;}#sk-container-id-1 div.sk-container {/* jupyter's `normalize.less` sets `[hidden] { display: none; }` but bootstrap.min.css set `[hidden] { display: none !important; }` so we also need the `!important` here to be able to override the default hidden behavior on the sphinx rendered scikit-learn.org. See: https://github.com/scikit-learn/scikit-learn/issues/21755 */display: inline-block !important;position: relative;}#sk-container-id-1 div.sk-text-repr-fallback {display: none;}</style><div id=\"sk-container-id-1\" class=\"sk-top-container\"><div class=\"sk-text-repr-fallback\"><pre>SelectPercentile(percentile=40)</pre><b>In a Jupyter environment, please rerun this cell to show the HTML representation or trust the notebook. <br />On GitHub, the HTML representation is unable to render, please try loading this page with nbviewer.org.</b></div><div class=\"sk-container\" hidden><div class=\"sk-item\"><div class=\"sk-estimator sk-toggleable\"><input class=\"sk-toggleable__control sk-hidden--visually\" id=\"sk-estimator-id-1\" type=\"checkbox\" checked><label for=\"sk-estimator-id-1\" class=\"sk-toggleable__label sk-toggleable__label-arrow\">SelectPercentile</label><div class=\"sk-toggleable__content\"><pre>SelectPercentile(percentile=40)</pre></div></div></div></div></div>"
      ],
      "text/plain": [
       "SelectPercentile(percentile=40)"
      ]
     },
     "execution_count": 55,
     "metadata": {},
     "output_type": "execute_result"
    }
   ],
   "source": [
    "select = SelectPercentile(percentile = 40)\n",
    "select.fit(X_train_val, y_train_val)"
   ]
  },
  {
   "cell_type": "code",
   "execution_count": 56,
   "metadata": {},
   "outputs": [],
   "source": [
    "X_train_val_selected = select.transform(X_train_val)\n",
    "X_test_val_selected = select.transform(X_test)"
   ]
  },
  {
   "cell_type": "code",
   "execution_count": 57,
   "metadata": {},
   "outputs": [
    {
     "name": "stdout",
     "output_type": "stream",
     "text": [
      "before selection (66821, 27)\n",
      "after selection (66821, 11)\n"
     ]
    }
   ],
   "source": [
    "print('before selection',X_train_val.shape)\n",
    "print('after selection',X_train_val_selected.shape)"
   ]
  },
  {
   "cell_type": "markdown",
   "metadata": {},
   "source": [
    "### The selected feature"
   ]
  },
  {
   "cell_type": "code",
   "execution_count": 58,
   "metadata": {},
   "outputs": [],
   "source": [
    "mask = select.get_support()"
   ]
  },
  {
   "cell_type": "code",
   "execution_count": 59,
   "metadata": {},
   "outputs": [
    {
     "data": {
      "text/html": [
       "<div>\n",
       "<style scoped>\n",
       "    .dataframe tbody tr th:only-of-type {\n",
       "        vertical-align: middle;\n",
       "    }\n",
       "\n",
       "    .dataframe tbody tr th {\n",
       "        vertical-align: top;\n",
       "    }\n",
       "\n",
       "    .dataframe thead th {\n",
       "        text-align: right;\n",
       "    }\n",
       "</style>\n",
       "<table border=\"1\" class=\"dataframe\">\n",
       "  <thead>\n",
       "    <tr style=\"text-align: right;\">\n",
       "      <th></th>\n",
       "      <th>indicator</th>\n",
       "      <th>features</th>\n",
       "    </tr>\n",
       "  </thead>\n",
       "  <tbody>\n",
       "    <tr>\n",
       "      <th>0</th>\n",
       "      <td>True</td>\n",
       "      <td>previous_cancellations</td>\n",
       "    </tr>\n",
       "    <tr>\n",
       "      <th>1</th>\n",
       "      <td>True</td>\n",
       "      <td>booking_changes</td>\n",
       "    </tr>\n",
       "    <tr>\n",
       "      <th>3</th>\n",
       "      <td>True</td>\n",
       "      <td>total_of_special_requests</td>\n",
       "    </tr>\n",
       "    <tr>\n",
       "      <th>9</th>\n",
       "      <td>True</td>\n",
       "      <td>market_segment_Groups</td>\n",
       "    </tr>\n",
       "    <tr>\n",
       "      <th>12</th>\n",
       "      <td>True</td>\n",
       "      <td>market_segment_Others</td>\n",
       "    </tr>\n",
       "    <tr>\n",
       "      <th>13</th>\n",
       "      <td>True</td>\n",
       "      <td>deposit_type_No Deposit</td>\n",
       "    </tr>\n",
       "    <tr>\n",
       "      <th>14</th>\n",
       "      <td>True</td>\n",
       "      <td>deposit_type_Non Refund</td>\n",
       "    </tr>\n",
       "    <tr>\n",
       "      <th>18</th>\n",
       "      <td>True</td>\n",
       "      <td>customer_type_Transient</td>\n",
       "    </tr>\n",
       "    <tr>\n",
       "      <th>19</th>\n",
       "      <td>True</td>\n",
       "      <td>customer_type_Transient-Party</td>\n",
       "    </tr>\n",
       "    <tr>\n",
       "      <th>23</th>\n",
       "      <td>True</td>\n",
       "      <td>required_car_parking_spaces_1</td>\n",
       "    </tr>\n",
       "    <tr>\n",
       "      <th>26</th>\n",
       "      <td>True</td>\n",
       "      <td>required_car_parking_spaces_Others</td>\n",
       "    </tr>\n",
       "  </tbody>\n",
       "</table>\n",
       "</div>"
      ],
      "text/plain": [
       "    indicator                            features\n",
       "0        True              previous_cancellations\n",
       "1        True                     booking_changes\n",
       "3        True           total_of_special_requests\n",
       "9        True               market_segment_Groups\n",
       "12       True               market_segment_Others\n",
       "13       True             deposit_type_No Deposit\n",
       "14       True             deposit_type_Non Refund\n",
       "18       True             customer_type_Transient\n",
       "19       True       customer_type_Transient-Party\n",
       "23       True       required_car_parking_spaces_1\n",
       "26       True  required_car_parking_spaces_Others"
      ]
     },
     "execution_count": 59,
     "metadata": {},
     "output_type": "execute_result"
    }
   ],
   "source": [
    "selected_features = pd.DataFrame({\n",
    "    'indicator':mask,\n",
    "    'features':features\n",
    "})\n",
    "df_selected = selected_features[selected_features['indicator']==True]\n",
    "df_selected"
   ]
  },
  {
   "cell_type": "code",
   "execution_count": 60,
   "metadata": {},
   "outputs": [
    {
     "data": {
      "text/plain": [
       "['previous_cancellations',\n",
       " 'booking_changes',\n",
       " 'total_of_special_requests',\n",
       " 'market_segment_Groups',\n",
       " 'market_segment_Others',\n",
       " 'deposit_type_No Deposit',\n",
       " 'deposit_type_Non Refund',\n",
       " 'customer_type_Transient',\n",
       " 'customer_type_Transient-Party',\n",
       " 'required_car_parking_spaces_1',\n",
       " 'required_car_parking_spaces_Others']"
      ]
     },
     "execution_count": 60,
     "metadata": {},
     "output_type": "execute_result"
    }
   ],
   "source": [
    "list(df_selected['features'])"
   ]
  },
  {
   "cell_type": "markdown",
   "metadata": {},
   "source": [
    "Menganalisis hasil 40% fitur-fitur yang signifikan berpengaruh dari total fitur-fitur hasil feature engineering. Yang kemudian dilakukan analisis multicolinearity (VIF) dan signifikansi melalui logit results."
   ]
  },
  {
   "cell_type": "code",
   "execution_count": 61,
   "metadata": {},
   "outputs": [],
   "source": [
    "features_selected = ['previous_cancellations','booking_changes','total_of_special_requests',\n",
    "                     'market_segment_Groups','market_segment_Others','deposit_type_No Deposit',\n",
    "                     'deposit_type_Non Refund','customer_type_Transient','customer_type_Transient-Party',\n",
    "                     'required_car_parking_spaces_1','required_car_parking_spaces_Others']"
   ]
  },
  {
   "cell_type": "code",
   "execution_count": 62,
   "metadata": {},
   "outputs": [
    {
     "data": {
      "text/html": [
       "<div>\n",
       "<style scoped>\n",
       "    .dataframe tbody tr th:only-of-type {\n",
       "        vertical-align: middle;\n",
       "    }\n",
       "\n",
       "    .dataframe tbody tr th {\n",
       "        vertical-align: top;\n",
       "    }\n",
       "\n",
       "    .dataframe thead th {\n",
       "        text-align: right;\n",
       "    }\n",
       "</style>\n",
       "<table border=\"1\" class=\"dataframe\">\n",
       "  <thead>\n",
       "    <tr style=\"text-align: right;\">\n",
       "      <th></th>\n",
       "      <th>variables</th>\n",
       "      <th>VIF</th>\n",
       "      <th>Acceptable</th>\n",
       "    </tr>\n",
       "  </thead>\n",
       "  <tbody>\n",
       "    <tr>\n",
       "      <th>0</th>\n",
       "      <td>previous_cancellations</td>\n",
       "      <td>1.034576</td>\n",
       "      <td>Yes</td>\n",
       "    </tr>\n",
       "    <tr>\n",
       "      <th>1</th>\n",
       "      <td>booking_changes</td>\n",
       "      <td>1.159442</td>\n",
       "      <td>Yes</td>\n",
       "    </tr>\n",
       "    <tr>\n",
       "      <th>2</th>\n",
       "      <td>total_of_special_requests</td>\n",
       "      <td>1.754360</td>\n",
       "      <td>Yes</td>\n",
       "    </tr>\n",
       "    <tr>\n",
       "      <th>3</th>\n",
       "      <td>market_segment_Groups</td>\n",
       "      <td>2.018742</td>\n",
       "      <td>Yes</td>\n",
       "    </tr>\n",
       "    <tr>\n",
       "      <th>4</th>\n",
       "      <td>market_segment_Others</td>\n",
       "      <td>1.300216</td>\n",
       "      <td>Yes</td>\n",
       "    </tr>\n",
       "    <tr>\n",
       "      <th>5</th>\n",
       "      <td>deposit_type_No Deposit</td>\n",
       "      <td>556.164871</td>\n",
       "      <td>No</td>\n",
       "    </tr>\n",
       "    <tr>\n",
       "      <th>6</th>\n",
       "      <td>deposit_type_Non Refund</td>\n",
       "      <td>77.345405</td>\n",
       "      <td>No</td>\n",
       "    </tr>\n",
       "    <tr>\n",
       "      <th>7</th>\n",
       "      <td>customer_type_Transient</td>\n",
       "      <td>20.063504</td>\n",
       "      <td>No</td>\n",
       "    </tr>\n",
       "    <tr>\n",
       "      <th>8</th>\n",
       "      <td>customer_type_Transient-Party</td>\n",
       "      <td>6.592453</td>\n",
       "      <td>No</td>\n",
       "    </tr>\n",
       "    <tr>\n",
       "      <th>9</th>\n",
       "      <td>required_car_parking_spaces_1</td>\n",
       "      <td>41.411653</td>\n",
       "      <td>No</td>\n",
       "    </tr>\n",
       "    <tr>\n",
       "      <th>10</th>\n",
       "      <td>required_car_parking_spaces_Others</td>\n",
       "      <td>608.857087</td>\n",
       "      <td>No</td>\n",
       "    </tr>\n",
       "  </tbody>\n",
       "</table>\n",
       "</div>"
      ],
      "text/plain": [
       "                             variables         VIF Acceptable\n",
       "0               previous_cancellations    1.034576        Yes\n",
       "1                      booking_changes    1.159442        Yes\n",
       "2            total_of_special_requests    1.754360        Yes\n",
       "3                market_segment_Groups    2.018742        Yes\n",
       "4                market_segment_Others    1.300216        Yes\n",
       "5              deposit_type_No Deposit  556.164871         No\n",
       "6              deposit_type_Non Refund   77.345405         No\n",
       "7              customer_type_Transient   20.063504         No\n",
       "8        customer_type_Transient-Party    6.592453         No\n",
       "9        required_car_parking_spaces_1   41.411653         No\n",
       "10  required_car_parking_spaces_Others  608.857087         No"
      ]
     },
     "execution_count": 62,
     "metadata": {},
     "output_type": "execute_result"
    }
   ],
   "source": [
    "calc_vif(df_enc[features_selected])"
   ]
  },
  {
   "cell_type": "code",
   "execution_count": 63,
   "metadata": {},
   "outputs": [
    {
     "name": "stdout",
     "output_type": "stream",
     "text": [
      "Warning: Maximum number of iterations has been exceeded.\n",
      "         Current function value: 0.469025\n",
      "         Iterations: 35\n",
      "[0.0, 4.75, 0.72, 0.6, 1.09]\n",
      "Warning: Maximum number of iterations has been exceeded.\n",
      "         Current function value: 0.469025\n",
      "         Iterations: 35\n",
      "                           Logit Regression Results                           \n",
      "==============================================================================\n",
      "Dep. Variable:            is_canceled   No. Observations:                83527\n",
      "Model:                          Logit   Df Residuals:                    83515\n",
      "Method:                           MLE   Df Model:                           11\n",
      "Date:                Thu, 01 Feb 2024   Pseudo R-squ.:                  0.2871\n",
      "Time:                        19:43:42   Log-Likelihood:                -39176.\n",
      "converged:                      False   LL-Null:                       -54952.\n",
      "Covariance Type:            nonrobust   LLR p-value:                     0.000\n",
      "======================================================================================================\n",
      "                                         coef    std err          z      P>|z|      [0.025      0.975]\n",
      "------------------------------------------------------------------------------------------------------\n",
      "const                                -18.2922   1805.028     -0.010      0.992   -3556.082    3519.498\n",
      "previous_cancellations                 1.5586      0.049     31.765      0.000       1.462       1.655\n",
      "booking_changes                       -0.3346      0.018    -18.803      0.000      -0.369      -0.300\n",
      "total_of_special_requests             -0.5035      0.012    -40.644      0.000      -0.528      -0.479\n",
      "market_segment_Groups                  0.0847      0.037      2.312      0.021       0.013       0.157\n",
      "market_segment_Others                 -1.1576      0.029    -40.493      0.000      -1.214      -1.102\n",
      "deposit_type_No Deposit                0.1042      0.241      0.432      0.666      -0.368       0.577\n",
      "deposit_type_Non Refund                5.2030      0.272     19.101      0.000       4.669       5.737\n",
      "customer_type_Transient                1.0764      0.052     20.700      0.000       0.974       1.178\n",
      "customer_type_Transient-Party          0.1893      0.056      3.364      0.001       0.079       0.300\n",
      "required_car_parking_spaces_1        -16.1513   3005.302     -0.005      0.996   -5906.436    5874.133\n",
      "required_car_parking_spaces_Others    16.9716   1805.028      0.009      0.992   -3520.818    3554.761\n",
      "======================================================================================================\n"
     ]
    }
   ],
   "source": [
    "X_sm_2 = sm.add_constant(df_enc[features_selected])\n",
    "\n",
    "clf_logit = sm.Logit(df_enc[target], X_sm_2.astype(float))\n",
    "\n",
    "odds_ratio = [round(x,2) for x in np.exp(clf_logit.fit().params.values)]\n",
    "\n",
    "print(odds_ratio[:5])\n",
    "print(clf_logit.fit().summary())"
   ]
  },
  {
   "cell_type": "markdown",
   "metadata": {},
   "source": [
    "### Trial 3"
   ]
  },
  {
   "cell_type": "code",
   "execution_count": 64,
   "metadata": {},
   "outputs": [
    {
     "data": {
      "text/html": [
       "<div>\n",
       "<style scoped>\n",
       "    .dataframe tbody tr th:only-of-type {\n",
       "        vertical-align: middle;\n",
       "    }\n",
       "\n",
       "    .dataframe tbody tr th {\n",
       "        vertical-align: top;\n",
       "    }\n",
       "\n",
       "    .dataframe thead th {\n",
       "        text-align: right;\n",
       "    }\n",
       "</style>\n",
       "<table border=\"1\" class=\"dataframe\">\n",
       "  <thead>\n",
       "    <tr style=\"text-align: right;\">\n",
       "      <th></th>\n",
       "      <th>variables</th>\n",
       "      <th>VIF</th>\n",
       "      <th>Acceptable</th>\n",
       "    </tr>\n",
       "  </thead>\n",
       "  <tbody>\n",
       "    <tr>\n",
       "      <th>0</th>\n",
       "      <td>previous_cancellations</td>\n",
       "      <td>1.033272</td>\n",
       "      <td>Yes</td>\n",
       "    </tr>\n",
       "    <tr>\n",
       "      <th>1</th>\n",
       "      <td>booking_changes</td>\n",
       "      <td>1.155230</td>\n",
       "      <td>Yes</td>\n",
       "    </tr>\n",
       "    <tr>\n",
       "      <th>2</th>\n",
       "      <td>total_of_special_requests</td>\n",
       "      <td>1.665519</td>\n",
       "      <td>Yes</td>\n",
       "    </tr>\n",
       "    <tr>\n",
       "      <th>3</th>\n",
       "      <td>market_segment_Groups</td>\n",
       "      <td>1.998564</td>\n",
       "      <td>Yes</td>\n",
       "    </tr>\n",
       "    <tr>\n",
       "      <th>4</th>\n",
       "      <td>market_segment_Others</td>\n",
       "      <td>1.271480</td>\n",
       "      <td>Yes</td>\n",
       "    </tr>\n",
       "    <tr>\n",
       "      <th>5</th>\n",
       "      <td>deposit_type_Non Refund</td>\n",
       "      <td>1.755140</td>\n",
       "      <td>Yes</td>\n",
       "    </tr>\n",
       "    <tr>\n",
       "      <th>6</th>\n",
       "      <td>customer_type_Transient</td>\n",
       "      <td>2.207002</td>\n",
       "      <td>Yes</td>\n",
       "    </tr>\n",
       "    <tr>\n",
       "      <th>7</th>\n",
       "      <td>customer_type_Transient-Party</td>\n",
       "      <td>1.568324</td>\n",
       "      <td>Yes</td>\n",
       "    </tr>\n",
       "  </tbody>\n",
       "</table>\n",
       "</div>"
      ],
      "text/plain": [
       "                       variables       VIF Acceptable\n",
       "0         previous_cancellations  1.033272        Yes\n",
       "1                booking_changes  1.155230        Yes\n",
       "2      total_of_special_requests  1.665519        Yes\n",
       "3          market_segment_Groups  1.998564        Yes\n",
       "4          market_segment_Others  1.271480        Yes\n",
       "5        deposit_type_Non Refund  1.755140        Yes\n",
       "6        customer_type_Transient  2.207002        Yes\n",
       "7  customer_type_Transient-Party  1.568324        Yes"
      ]
     },
     "execution_count": 64,
     "metadata": {},
     "output_type": "execute_result"
    }
   ],
   "source": [
    "# Menghapus fitur required_car_parking_spaces_Others, required_car_parking_spaces_1  dan deposit_type_No Deposit\n",
    "# Karena kedua fitur ini tidak berpengaruh signifikan dan untuk menghindari multicolianity\n",
    "features_selected2 = ['previous_cancellations','booking_changes','total_of_special_requests',\n",
    "                     'market_segment_Groups','market_segment_Others','deposit_type_Non Refund',\n",
    "                     'customer_type_Transient','customer_type_Transient-Party']\n",
    "\n",
    "calc_vif(df_enc[features_selected2])"
   ]
  },
  {
   "cell_type": "code",
   "execution_count": 65,
   "metadata": {},
   "outputs": [
    {
     "name": "stdout",
     "output_type": "stream",
     "text": [
      "Optimization terminated successfully.\n",
      "         Current function value: 0.488156\n",
      "         Iterations 9\n",
      "[0.29, 4.21, 0.69, 0.59, 1.09]\n",
      "Optimization terminated successfully.\n",
      "         Current function value: 0.488156\n",
      "         Iterations 9\n",
      "                           Logit Regression Results                           \n",
      "==============================================================================\n",
      "Dep. Variable:            is_canceled   No. Observations:                83527\n",
      "Model:                          Logit   Df Residuals:                    83518\n",
      "Method:                           MLE   Df Model:                            8\n",
      "Date:                Thu, 01 Feb 2024   Pseudo R-squ.:                  0.2580\n",
      "Time:                        19:43:43   Log-Likelihood:                -40774.\n",
      "converged:                       True   LL-Null:                       -54952.\n",
      "Covariance Type:            nonrobust   LLR p-value:                     0.000\n",
      "=================================================================================================\n",
      "                                    coef    std err          z      P>|z|      [0.025      0.975]\n",
      "-------------------------------------------------------------------------------------------------\n",
      "const                            -1.2282      0.051    -24.105      0.000      -1.328      -1.128\n",
      "previous_cancellations            1.4364      0.046     31.111      0.000       1.346       1.527\n",
      "booking_changes                  -0.3648      0.018    -20.564      0.000      -0.400      -0.330\n",
      "total_of_special_requests        -0.5204      0.012    -42.474      0.000      -0.544      -0.496\n",
      "market_segment_Groups             0.0870      0.036      2.398      0.016       0.016       0.158\n",
      "market_segment_Others            -1.2592      0.028    -44.805      0.000      -1.314      -1.204\n",
      "deposit_type_Non Refund           5.1776      0.128     40.345      0.000       4.926       5.429\n",
      "customer_type_Transient           1.0049      0.051     19.583      0.000       0.904       1.105\n",
      "customer_type_Transient-Party     0.1936      0.056      3.481      0.000       0.085       0.303\n",
      "=================================================================================================\n"
     ]
    }
   ],
   "source": [
    "X_sm3 = sm.add_constant(df_enc[features_selected2])\n",
    "\n",
    "clf_logit = sm.Logit(df_enc[target], X_sm3.astype(float))\n",
    "\n",
    "odds_ratio = [round(x,2) for x in np.exp(clf_logit.fit().params.values)]\n",
    "\n",
    "print(odds_ratio[:5])\n",
    "print(clf_logit.fit().summary())"
   ]
  },
  {
   "cell_type": "markdown",
   "metadata": {},
   "source": [
    "Dari hasil analisis multicolinearity logit results diatas, tidak ada nilai p-value > 0.05 yang berarti semua fitur berpengaruh signifikan dan tidak ada multicolineary diantara mereka dilihat dari VIF."
   ]
  },
  {
   "cell_type": "markdown",
   "metadata": {},
   "source": [
    "### Alternatif pilihan penggunaan fitur (VIF manual selection)"
   ]
  },
  {
   "cell_type": "code",
   "execution_count": null,
   "metadata": {},
   "outputs": [],
   "source": []
  },
  {
   "cell_type": "code",
   "execution_count": null,
   "metadata": {},
   "outputs": [],
   "source": []
  },
  {
   "cell_type": "code",
   "execution_count": null,
   "metadata": {},
   "outputs": [],
   "source": []
  },
  {
   "cell_type": "markdown",
   "metadata": {},
   "source": [
    "### Intrepretasi VIF\n",
    "\n",
    "1. Dari hasil perhitungan nilai VIF di atas, dapat dilihat bahwa masih terdapat multicollinearity. Feature seperti **continent_Europe** memiliki nilai VIF yang relatif tinggi. Oleh karena itu, ketika nanti performa model machine learning dianggap belum maksimal dapat dilakukan penghapusan feature country/continent.\n",
    "1. Juga dilihat dari summary OLS-nya, model dapat menjelaskan variasi data terhadap target is_canceled sebesar 20.6%, sisanya 79.4% dijelaskan oleh variable lain yang tidak terdapat dalam model ini."
   ]
  },
  {
   "cell_type": "code",
   "execution_count": 66,
   "metadata": {},
   "outputs": [
    {
     "data": {
      "text/plain": [
       "Index(['previous_cancellations', 'booking_changes', 'days_in_waiting_list',\n",
       "       'total_of_special_requests', 'is_canceled', 'continent_Asia',\n",
       "       'continent_Europe', 'continent_North America', 'continent_Others',\n",
       "       'continent_South America', 'market_segment_Groups',\n",
       "       'market_segment_Offline TA/TO', 'market_segment_Online TA',\n",
       "       'market_segment_Others', 'deposit_type_No Deposit',\n",
       "       'deposit_type_Non Refund', 'deposit_type_Refundable',\n",
       "       'customer_type_Contract', 'customer_type_Others',\n",
       "       'customer_type_Transient', 'customer_type_Transient-Party',\n",
       "       'reserved_room_type_A', 'reserved_room_type_D',\n",
       "       'reserved_room_type_Others', 'required_car_parking_spaces_1',\n",
       "       'required_car_parking_spaces_2', 'required_car_parking_spaces_3',\n",
       "       'required_car_parking_spaces_Others'],\n",
       "      dtype='object')"
      ]
     },
     "execution_count": 66,
     "metadata": {},
     "output_type": "execute_result"
    }
   ],
   "source": [
    "df_enc.columns"
   ]
  },
  {
   "cell_type": "markdown",
   "metadata": {},
   "source": [
    "Meng-export data hasil dari feature selection untuk dimasukkan ke dalam benchmarking model machine learning"
   ]
  },
  {
   "cell_type": "code",
   "execution_count": 67,
   "metadata": {},
   "outputs": [
    {
     "data": {
      "text/plain": [
       "Index(['previous_cancellations', 'booking_changes',\n",
       "       'total_of_special_requests', 'market_segment_Groups',\n",
       "       'market_segment_Others', 'deposit_type_Non Refund',\n",
       "       'customer_type_Transient', 'customer_type_Transient-Party',\n",
       "       'is_canceled'],\n",
       "      dtype='object')"
      ]
     },
     "execution_count": 67,
     "metadata": {},
     "output_type": "execute_result"
    }
   ],
   "source": [
    "features_selected2 = ['previous_cancellations','booking_changes','total_of_special_requests',\n",
    "                     'market_segment_Groups','market_segment_Others','deposit_type_Non Refund',\n",
    "                     'customer_type_Transient','customer_type_Transient-Party','is_canceled']\n",
    "\n",
    "df_enc3 = df_enc[features_selected2]\n",
    "df_enc3.columns"
   ]
  },
  {
   "cell_type": "markdown",
   "metadata": {},
   "source": [
    "Membuat dataframe yang tidak memperlakukan scaling pada data numerik untuk mendapatkan perbandingan performa interpretable machine learning dengan metode inverse robust scaling"
   ]
  },
  {
   "cell_type": "code",
   "execution_count": 68,
   "metadata": {},
   "outputs": [],
   "source": [
    "# # Menentukan path (lokasi) dan nama file CSV yang diinginkan\n",
    "# file_csv1 = 'E:/Penyimpanan Utama (C)/Purwadhika Coding School/Orientasi/Modul 3/Github Caps M3/data_hotel_booking_demand_prep1.csv'\n",
    "# file_csv2 = 'E:/Penyimpanan Utama (C)/Purwadhika Coding School/Orientasi/Modul 3/Github Caps M3/data_hotel_booking_demand_prep2.csv'\n",
    "# file_csv3 = 'E:/Penyimpanan Utama (C)/Purwadhika Coding School/Orientasi/Modul 3/Github Caps M3/data_hotel_booking_demand_prep3B.csv'\n",
    "# file_csv4 = 'E:/Penyimpanan Utama (C)/Purwadhika Coding School/Orientasi/Modul 3/Github Caps M3/data_hotel_booking_demand_prep4.csv'\n",
    "# file_csv5 = 'E:/Penyimpanan Utama (C)/Purwadhika Coding School/Orientasi/Modul 3/Github Caps M3/data_hotel_booking_demand_prep5.csv'\n",
    "file_csv6 = 'E:/Penyimpanan Utama (C)/Purwadhika Coding School/Orientasi/Modul 3/Github Caps M3/data_hotel_booking_demand_prep6.csv'\n",
    "\n",
    "# # Menyimpan DataFrame ke dalam file CSV\n",
    "# df_prepa.to_csv(file_csv1, index=False)\n",
    "# df_preps.to_csv(file_csv2, index=False)\n",
    "# df_prepa.to_csv(file_csv3, index=False)\n",
    "# df_pre.to_csv(file_csv4, index=False)\n",
    "# df_pre2.to_csv(file_csv5, index=False)\n",
    "df_enc3.to_csv(file_csv6, index=False)"
   ]
  },
  {
   "cell_type": "markdown",
   "metadata": {},
   "source": [
    "Setelah itu, kita dapat menggunakan Association sebagai metrik untuk menentukan tingkat korelasi antara fitur dan target setelah dilakukan feature selection dengan VIF. Untuk Association, kita menggunakan Theil's U daripada Cramer's V karena Cramer's V memiliki kemungkinan untuk menghasilkan bias.\n",
    "\n",
    "reference : https://medium.com/the-researchers-guide/generate-numerical-correlation-and-nominal-association-plots-using-python-c8548aa4a663"
   ]
  },
  {
   "cell_type": "code",
   "execution_count": 70,
   "metadata": {},
   "outputs": [
    {
     "data": {
      "image/png": "[encoded data removed]",
      "text/plain": [
       "<Figure size 2000x1000 with 1 Axes>"
      ]
     },
     "metadata": {},
     "output_type": "display_data"
    },
    {
     "data": {
      "text/plain": [
       "{'corr':                            previous_cancellations  booking_changes  \\\n",
       " previous_cancellations                   1.000000        -0.027499   \n",
       " booking_changes                         -0.027499         1.000000   \n",
       " total_of_special_requests               -0.048064         0.056346   \n",
       " \n",
       "                            total_of_special_requests  market_segment_Groups  \\\n",
       " previous_cancellations                     -0.048064               0.098612   \n",
       " booking_changes                             0.056346              -0.008698   \n",
       " total_of_special_requests                   1.000000              -0.269502   \n",
       " \n",
       "                            market_segment_Others  deposit_type_Non Refund  \\\n",
       " previous_cancellations                 -0.010583                 0.140984   \n",
       " booking_changes                         0.095530                -0.120059   \n",
       " total_of_special_requests              -0.048195                -0.266641   \n",
       " \n",
       "                            customer_type_Transient  \\\n",
       " previous_cancellations                   -0.028690   \n",
       " booking_changes                          -0.084679   \n",
       " total_of_special_requests                 0.131075   \n",
       " \n",
       "                            customer_type_Transient-Party  is_canceled  \n",
       " previous_cancellations                          0.017309     0.109699  \n",
       " booking_changes                                 0.102353    -0.146336  \n",
       " total_of_special_requests                      -0.157903    -0.235677  ,\n",
       " 'ax': <Axes: >}"
      ]
     },
     "execution_count": 70,
     "metadata": {},
     "output_type": "execute_result"
    }
   ],
   "source": [
    "import dython as dy\n",
    "from dython.nominal import associations\n",
    "associations(df_enc3, figsize=(20,10), cbar=False,cmap='coolwarm', nom_nom_assoc='theil', display_rows=['previous_cancellations',\n",
    "                                                                                    'booking_changes',\n",
    "                                                                                    'total_of_special_requests'])"
   ]
  },
  {
   "cell_type": "code",
   "execution_count": 71,
   "metadata": {},
   "outputs": [
    {
     "data": {
      "image/png": "[encoded data removed]",
      "text/plain": [
       "<Figure size 2000x1000 with 1 Axes>"
      ]
     },
     "metadata": {},
     "output_type": "display_data"
    },
    {
     "data": {
      "text/plain": [
       "{'corr':              previous_cancellations  booking_changes  \\\n",
       " is_canceled                0.109699        -0.146336   \n",
       " \n",
       "              total_of_special_requests  market_segment_Groups  \\\n",
       " is_canceled                  -0.235677               0.224072   \n",
       " \n",
       "              market_segment_Others  deposit_type_Non Refund  \\\n",
       " is_canceled              -0.187998                 0.480605   \n",
       " \n",
       "              customer_type_Transient  customer_type_Transient-Party  \\\n",
       " is_canceled                 0.129576                      -0.119984   \n",
       " \n",
       "              is_canceled  \n",
       " is_canceled          1.0  ,\n",
       " 'ax': <Axes: >}"
      ]
     },
     "execution_count": 71,
     "metadata": {},
     "output_type": "execute_result"
    }
   ],
   "source": [
    "associations(df_enc3, figsize=(20,10),cmap='plasma', cbar=False, nom_nom_assoc='theil', display_rows=['is_canceled'])"
   ]
  },
  {
   "cell_type": "markdown",
   "metadata": {},
   "source": [
    "Kita dapat mengkonfirmasi dan menemukan informasi yang sejalan dengan VIF, bawah pada heatmap di atas menunjukkan tidak terdapatnya multicollinearity karena setiap fitur memiliki nilai yang berbeda."
   ]
  },
  {
   "cell_type": "code",
   "execution_count": null,
   "metadata": {},
   "outputs": [],
   "source": []
  }
 ],
 "metadata": {
  "kernelspec": {
   "display_name": "Python 3",
   "language": "python",
   "name": "python3"
  },
  "language_info": {
   "codemirror_mode": {
    "name": "ipython",
    "version": 3
   },
   "file_extension": ".py",
   "mimetype": "text/x-python",
   "name": "python",
   "nbconvert_exporter": "python",
   "pygments_lexer": "ipython3",
   "version": "3.12.0"
  }
 },
 "nbformat": 4,
 "nbformat_minor": 2
}
