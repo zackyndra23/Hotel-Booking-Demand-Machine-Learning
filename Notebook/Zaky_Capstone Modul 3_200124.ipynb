{
 "cells": [
  {
   "cell_type": "markdown",
   "metadata": {},
   "source": [
    "![Banner logo](https://github.com/zackyndra23/Data_Science/blob/main/Banner1.jpg?raw=true)\n",
    "\n",
    "# Analysis of Bangkok Airbnb Listings Data\n",
    "*by Zaky Indra Satria Putra, student at* &nbsp;\n",
    "<a href=\"https://purwadhika.com\" target=\"_blank\">\n",
    "    <img src=\"https://github.com/zackyndra23/Data_Science/blob/main/Logo%20Purwadhika.png?raw=true\" width=\"20%\">\n",
    "</a>\n",
    "\n",
    "<br>"
   ]
  },
  {
   "cell_type": "code",
   "execution_count": null,
   "metadata": {},
   "outputs": [],
   "source": []
  }
 ],
 "metadata": {
  "kernelspec": {
   "display_name": "Python 3",
   "language": "python",
   "name": "python3"
  },
  "language_info": {
   "codemirror_mode": {
    "name": "ipython",
    "version": 3
   },
   "file_extension": ".py",
   "mimetype": "text/x-python",
   "name": "python",
   "nbconvert_exporter": "python",
   "pygments_lexer": "ipython3",
   "version": "3.12.0"
  }
 },
 "nbformat": 4,
 "nbformat_minor": 2
}
